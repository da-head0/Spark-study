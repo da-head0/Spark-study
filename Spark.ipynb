{
  "nbformat": 4,
  "nbformat_minor": 0,
  "metadata": {
    "colab": {
      "name": "Spark.ipynb",
      "provenance": [],
      "collapsed_sections": [],
      "authorship_tag": "ABX9TyP6IwcE/xd+qssi0zQzwbzD",
      "include_colab_link": true
    },
    "kernelspec": {
      "name": "python3",
      "display_name": "Python 3"
    },
    "language_info": {
      "name": "python"
    }
  },
  "cells": [
    {
      "cell_type": "markdown",
      "metadata": {
        "id": "view-in-github",
        "colab_type": "text"
      },
      "source": [
        "<a href=\"https://colab.research.google.com/github/da-head0/spark-example/blob/main/Spark.ipynb\" target=\"_parent\"><img src=\"https://colab.research.google.com/assets/colab-badge.svg\" alt=\"Open In Colab\"/></a>"
      ]
    },
    {
      "cell_type": "markdown",
      "metadata": {
        "id": "WCnqG05kdZj0"
      },
      "source": [
        "## 환경 구축"
      ]
    },
    {
      "cell_type": "markdown",
      "metadata": {
        "id": "E3ZfH5DmTzig"
      },
      "source": [
        "- 로컬 환경에서 PySpark 시도시 오류가 나서 코랩으로 진행하였습니다."
      ]
    },
    {
      "cell_type": "code",
      "metadata": {
        "id": "FA4_bs-1Tr0h"
      },
      "source": [
        "!apt-get install openjdk-8-jdk-headless -qq > /dev/null\n",
        "!wget -q https://www-us.apache.org/dist/spark/spark-2.4.8/spark-2.4.8-bin-hadoop2.7.tgz\n",
        "!tar xf spark-2.4.8-bin-hadoop2.7.tgz\n",
        "!pip install -q findspark\n",
        "import os\n",
        "\n",
        "# 자바, 스파크 환경설정\n",
        "os.environ[\"JAVA_HOME\"] = \"/usr/lib/jvm/java-8-openjdk-amd64\"\n",
        "os.environ[\"SPARK_HOME\"] = \"/content/spark-2.4.8-bin-hadoop2.7\"\n",
        "import findspark\n",
        "findspark.init()"
      ],
      "execution_count": 1,
      "outputs": []
    },
    {
      "cell_type": "markdown",
      "metadata": {
        "id": "jXl4d7SZddQ8"
      },
      "source": [
        "## 데이터셋 정보"
      ]
    },
    {
      "cell_type": "code",
      "metadata": {
        "id": "QnBRUfZ-T-2M"
      },
      "source": [
        "from pyspark.sql import SparkSession\n",
        "spark = SparkSession.builder.master(\"local[*]\").appName(\"Learning_Spark\").getOrCreate() # 세션을 구성\n",
        "data = spark.read.csv(\"pet_food_customer_orders.csv\", inferSchema=True, header=True)"
      ],
      "execution_count": 2,
      "outputs": []
    },
    {
      "cell_type": "markdown",
      "metadata": {
        "id": "ICKjO6cBWDpt"
      },
      "source": [
        "- 데이터셋은 제가 다음 개인 프로젝트 주제로 계획중인 애완동물 사료 쇼핑몰 판매 데이터입니다."
      ]
    },
    {
      "cell_type": "markdown",
      "metadata": {
        "id": "9-RkeDEdak0E"
      },
      "source": [
        "- 건식, 습식 사료 판매 데이터를 가지고 습식을 살 고객을 예측하는 목적의 데이터인데요, 오늘은 일단 스파크와 하둡의 사용방법을 배우는 것을 목표로 하기 때문에 해당 챌린지를 예측하지는 않겠습니다."
      ]
    },
    {
      "cell_type": "code",
      "metadata": {
        "colab": {
          "base_uri": "https://localhost:8080/"
        },
        "id": "kXUZINdIV02t",
        "outputId": "defde305-cf8b-46d6-c599-fa5227e044cc"
      },
      "source": [
        "# 데이터의 길이, 행 갯수\n",
        "data.count(), len(data.columns)"
      ],
      "execution_count": null,
      "outputs": [
        {
          "output_type": "execute_result",
          "data": {
            "text/plain": [
              "(49042, 36)"
            ]
          },
          "metadata": {
            "tags": []
          },
          "execution_count": 10
        }
      ]
    },
    {
      "cell_type": "code",
      "metadata": {
        "colab": {
          "base_uri": "https://localhost:8080/"
        },
        "id": "b14SK2IGV6cH",
        "outputId": "6bbe3123-60c3-4ead-8fdb-79ef62813fbe"
      },
      "source": [
        "# 데이터프레임 보기\n",
        "data.show(10) # 숫자가 없으면 처음 20개를 출력"
      ],
      "execution_count": null,
      "outputs": [
        {
          "output_type": "stream",
          "text": [
            "+--------------------+--------------------+----------------+---------------------+----------------------------------+---------------------------+-------------+--------------------+-----------------+--------------------+---------------------+--------+------+--------------+--------------+----------------------+------------------------+-----------------------+-------------------+-----------+--------+----------------+---------+-------------------------+-------------+-------------------+------------------+--------------------------+------------------+-----------------------------------+------------------------+-----------------------------------------+----------------------+---------------------------------------+---------------------------------+--------------------------------+\n",
            "|         customer_id|              pet_id|pet_order_number|wet_food_order_number|orders_since_first_wet_trays_order|pet_has_active_subscription|pet_food_tier| pet_signup_datetime|pet_allergen_list|pet_fav_flavour_list|pet_health_issue_list|neutered|gender|pet_breed_size|  signup_promo|ate_wet_food_pre_tails|dry_food_brand_pre_tails|pet_life_stage_at_order| order_payment_date|kibble_kcal|wet_kcal|total_order_kcal|wet_trays|wet_food_discount_percent|wet_tray_size|premium_treat_packs|dental_treat_packs|wet_food_textures_in_order|total_web_sessions|total_web_sessions_since_last_order|total_minutes_on_website|total_minutes_on_website_since_last_order|total_wet_food_updates|total_wet_food_updates_since_last_order|last_customer_support_ticket_date|customer_support_ticket_category|\n",
            "+--------------------+--------------------+----------------+---------------------+----------------------------------+---------------------------+-------------+--------------------+-----------------+--------------------+---------------------+--------+------+--------------+--------------+----------------------+------------------------+-----------------------+-------------------+-----------+--------+----------------+---------+-------------------------+-------------+-------------------+------------------+--------------------------+------------------+-----------------------------------+------------------------+-----------------------------------------+----------------------+---------------------------------------+---------------------------------+--------------------------------+\n",
            "|10574848487411271014| 4466839344031767293|               2|                  1.0|                               1.0|                       true| superpremium|1970-01-01 00:00:...|             null|             Chicken|    digestion, joints|    true|female|         large|Null & Default|                  true|                 Canagan|                 mature|2019-04-11 00:00:00|  36876.724| 1234.65|       38111.374|       11|                      0.0|         150g|                  0|                 0|          gravy jelly pate|                 6|                                  4|                     101|                                       32|                     0|                                      0|             2019-03-16 09:10:...|                       proactive|\n",
            "|10574848487411271014| 4466839344031767293|               1|                 null|                              null|                       true| superpremium|1970-01-01 00:00:...|             null|             Chicken|    digestion, joints|    true|female|         large|Null & Default|                  true|                 Canagan|                 mature|2019-03-18 00:00:00|  21419.305|     0.0|       21419.305|        0|                     null|         None|                  0|                 0|                      null|                 2|                                  1|                      69|                                        3|                     0|                                      0|             2019-03-16 09:10:...|                       proactive|\n",
            "|10574848487411271014| 4466839344031767293|               8|                  7.0|                               7.0|                       true| superpremium|1970-01-01 00:00:...|             null|             Chicken|    digestion, joints|    true|female|         large|Null & Default|                  true|                 Canagan|                 mature|2019-10-27 00:00:00|  18352.836|  6624.0|       24976.836|       60|                      0.0|         150g|                  0|                 0|          gravy jelly pate|                18|                                  0|                     184|                                        0|                     0|                                      0|             2019-10-26 06:10:...|                         account|\n",
            "|10574848487411271014| 4466839344031767293|               4|                  3.0|                               3.0|                       true| superpremium|1970-01-01 00:00:...|             null|             Chicken|    digestion, joints|    true|female|         large|Null & Default|                  true|                 Canagan|                 mature|2019-05-20 00:00:00|  36617.214|  2901.9|       39519.114|       26|                      0.0|         150g|                  0|                 0|          gravy jelly pate|                13|                                  6|                     130|                                       15|                     0|                                      0|             2019-04-23 06:28:...|                         account|\n",
            "|10574848487411271014| 4466839344031767293|               9|                  8.0|                               8.0|                       true| superpremium|1970-01-01 00:00:...|             null|             Chicken|    digestion, joints|    true|female|         large|Null & Default|                  true|                 Canagan|                 mature|2019-11-20 00:00:00|    18340.3|  6624.0|         24964.3|       60|                      0.0|         150g|                  0|                 0|          gravy jelly pate|                19|                                  1|                     184|                                        0|                     0|                                      0|             2019-10-26 06:10:...|                         account|\n",
            "| 6342772975217424401|11842806521695140337|               6|                 null|                              null|                       true|      premium|1970-01-01 00:00:...|             null|                null|                 null|    true|female|        medium|Refer a Friend|                  true|    Pets at Home Comp...|                 mature|2019-08-15 00:00:00|   14435.99|     0.0|        14435.99|        0|                     null|         None|                  0|                 0|                      null|                15|                                  2|                     118|                                        1|                     0|                                      0|                             null|                            null|\n",
            "| 6342772975217424401|11842806521695140337|               3|                 null|                              null|                       true|      premium|1970-01-01 00:00:...|             null|                null|                 null|    true|female|        medium|Refer a Friend|                  true|    Pets at Home Comp...|                 mature|2019-05-05 00:00:00|    9982.41|     0.0|         9982.41|        0|                     null|         None|                  0|                 0|                      null|                 7|                                  5|                      36|                                        1|                     0|                                      0|                             null|                            null|\n",
            "| 6342772975217424401|11842806521695140337|               9|                 null|                              null|                       true|      premium|1970-01-01 00:00:...|             null|                null|                 null|    true|female|        medium|Refer a Friend|                  true|    Pets at Home Comp...|                 mature|2019-12-04 00:00:00|   14364.79|     0.0|        14725.59|        0|                     null|         None|                  0|                 0|                      null|                32|                                  6|                     134|                                        4|                     0|                                      0|                             null|                            null|\n",
            "| 6342772975217424401|11842806521695140337|               1|                 null|                              null|                       true|      premium|1970-01-01 00:00:...|             null|                null|                 null|    true|female|        medium|Refer a Friend|                  true|    Pets at Home Comp...|                 mature|2019-03-07 00:00:00|   10012.05|     0.0|        10012.05|        0|                     null|         None|                  0|                 0|                      null|                 1|                                  0|                      32|                                        0|                     0|                                      0|                             null|                            null|\n",
            "| 6342772975217424401|11842806521695140337|               7|                 null|                              null|                       true|      premium|1970-01-01 00:00:...|             null|                null|                 null|    true|female|        medium|Refer a Friend|                  true|    Pets at Home Comp...|                 mature|2019-09-25 00:00:00|   14348.89|     0.0|        14348.89|        0|                     null|         None|                  0|                 0|                      null|                20|                                  5|                     127|                                        9|                     0|                                      0|                             null|                            null|\n",
            "+--------------------+--------------------+----------------+---------------------+----------------------------------+---------------------------+-------------+--------------------+-----------------+--------------------+---------------------+--------+------+--------------+--------------+----------------------+------------------------+-----------------------+-------------------+-----------+--------+----------------+---------+-------------------------+-------------+-------------------+------------------+--------------------------+------------------+-----------------------------------+------------------------+-----------------------------------------+----------------------+---------------------------------------+---------------------------------+--------------------------------+\n",
            "only showing top 10 rows\n",
            "\n"
          ],
          "name": "stdout"
        }
      ]
    },
    {
      "cell_type": "code",
      "metadata": {
        "colab": {
          "base_uri": "https://localhost:8080/"
        },
        "id": "eQ94iQMNWXBV",
        "outputId": "07a1f5cb-22ca-4c68-980a-11497cca2257"
      },
      "source": [
        "# 데이터프레임을 구성하는 정보 확인\n",
        "data.printSchema()"
      ],
      "execution_count": null,
      "outputs": [
        {
          "output_type": "stream",
          "text": [
            "root\n",
            " |-- customer_id: decimal(20,0) (nullable = true)\n",
            " |-- pet_id: decimal(20,0) (nullable = true)\n",
            " |-- pet_order_number: integer (nullable = true)\n",
            " |-- wet_food_order_number: double (nullable = true)\n",
            " |-- orders_since_first_wet_trays_order: double (nullable = true)\n",
            " |-- pet_has_active_subscription: boolean (nullable = true)\n",
            " |-- pet_food_tier: string (nullable = true)\n",
            " |-- pet_signup_datetime: timestamp (nullable = true)\n",
            " |-- pet_allergen_list: string (nullable = true)\n",
            " |-- pet_fav_flavour_list: string (nullable = true)\n",
            " |-- pet_health_issue_list: string (nullable = true)\n",
            " |-- neutered: boolean (nullable = true)\n",
            " |-- gender: string (nullable = true)\n",
            " |-- pet_breed_size: string (nullable = true)\n",
            " |-- signup_promo: string (nullable = true)\n",
            " |-- ate_wet_food_pre_tails: boolean (nullable = true)\n",
            " |-- dry_food_brand_pre_tails: string (nullable = true)\n",
            " |-- pet_life_stage_at_order: string (nullable = true)\n",
            " |-- order_payment_date: timestamp (nullable = true)\n",
            " |-- kibble_kcal: double (nullable = true)\n",
            " |-- wet_kcal: double (nullable = true)\n",
            " |-- total_order_kcal: double (nullable = true)\n",
            " |-- wet_trays: integer (nullable = true)\n",
            " |-- wet_food_discount_percent: double (nullable = true)\n",
            " |-- wet_tray_size: string (nullable = true)\n",
            " |-- premium_treat_packs: integer (nullable = true)\n",
            " |-- dental_treat_packs: integer (nullable = true)\n",
            " |-- wet_food_textures_in_order: string (nullable = true)\n",
            " |-- total_web_sessions: integer (nullable = true)\n",
            " |-- total_web_sessions_since_last_order: integer (nullable = true)\n",
            " |-- total_minutes_on_website: integer (nullable = true)\n",
            " |-- total_minutes_on_website_since_last_order: integer (nullable = true)\n",
            " |-- total_wet_food_updates: integer (nullable = true)\n",
            " |-- total_wet_food_updates_since_last_order: integer (nullable = true)\n",
            " |-- last_customer_support_ticket_date: string (nullable = true)\n",
            " |-- customer_support_ticket_category: string (nullable = true)\n",
            "\n"
          ],
          "name": "stdout"
        }
      ]
    },
    {
      "cell_type": "markdown",
      "metadata": {
        "id": "fCwnF2nsdiiu"
      },
      "source": [
        "## 데이터셋 분석"
      ]
    },
    {
      "cell_type": "code",
      "metadata": {
        "colab": {
          "base_uri": "https://localhost:8080/"
        },
        "id": "-trGHH3vXKuS",
        "outputId": "9a3f4442-2c2d-4387-e657-8b31626a2806"
      },
      "source": [
        "data.select(\"customer_id\",\"pet_order_number\",\"wet_food_order_number\",\"orders_since_first_wet_trays_order\",\"pet_food_tier\").show(15, truncate=False) # 행이 길어도 자르지 않습니다."
      ],
      "execution_count": null,
      "outputs": [
        {
          "output_type": "stream",
          "text": [
            "+--------------------+----------------+---------------------+----------------------------------+-------------+\n",
            "|customer_id         |pet_order_number|wet_food_order_number|orders_since_first_wet_trays_order|pet_food_tier|\n",
            "+--------------------+----------------+---------------------+----------------------------------+-------------+\n",
            "|10574848487411271014|2               |1.0                  |1.0                               |superpremium |\n",
            "|10574848487411271014|1               |null                 |null                              |superpremium |\n",
            "|10574848487411271014|8               |7.0                  |7.0                               |superpremium |\n",
            "|10574848487411271014|4               |3.0                  |3.0                               |superpremium |\n",
            "|10574848487411271014|9               |8.0                  |8.0                               |superpremium |\n",
            "|6342772975217424401 |6               |null                 |null                              |premium      |\n",
            "|6342772975217424401 |3               |null                 |null                              |premium      |\n",
            "|6342772975217424401 |9               |null                 |null                              |premium      |\n",
            "|6342772975217424401 |1               |null                 |null                              |premium      |\n",
            "|6342772975217424401 |7               |null                 |null                              |premium      |\n",
            "|6342772975217424401 |11              |null                 |null                              |premium      |\n",
            "|6342772975217424401 |2               |null                 |null                              |premium      |\n",
            "|6342772975217424401 |8               |null                 |null                              |premium      |\n",
            "|6342772975217424401 |5               |null                 |null                              |premium      |\n",
            "|6342772975217424401 |4               |null                 |null                              |premium      |\n",
            "+--------------------+----------------+---------------------+----------------------------------+-------------+\n",
            "only showing top 15 rows\n",
            "\n"
          ],
          "name": "stdout"
        }
      ]
    },
    {
      "cell_type": "markdown",
      "metadata": {
        "id": "jsRJi1ucXajm"
      },
      "source": [
        "- 고객 id, 건식 주문 횟수, 습식 주문 횟수, 첫번째 습식 주문으로부터 지난 날짜(습식을 주문하지 않았으면 null 입니다),\n",
        "- 주문한 사료의 등급을 골라서 보겠습니다."
      ]
    },
    {
      "cell_type": "code",
      "metadata": {
        "colab": {
          "base_uri": "https://localhost:8080/"
        },
        "id": "U42n9gJIX0zw",
        "outputId": "e809023f-6ce1-4336-cf7d-050b36f3a0a6"
      },
      "source": [
        "data.describe(\"pet_order_number\", \"total_minutes_on_website_since_last_order\").show()"
      ],
      "execution_count": null,
      "outputs": [
        {
          "output_type": "stream",
          "text": [
            "+-------+-----------------+-----------------------------------------+\n",
            "|summary| pet_order_number|total_minutes_on_website_since_last_order|\n",
            "+-------+-----------------+-----------------------------------------+\n",
            "|  count|            49042|                                    49042|\n",
            "|   mean|3.506545410056686|                        92.71646751763794|\n",
            "| stddev|2.864753860998993|                       291.26281915410124|\n",
            "|    min|                1|                                        0|\n",
            "|    max|               20|                                     8203|\n",
            "+-------+-----------------+-----------------------------------------+\n",
            "\n"
          ],
          "name": "stdout"
        }
      ]
    },
    {
      "cell_type": "markdown",
      "metadata": {
        "id": "lXfaXSZKYBWO"
      },
      "source": [
        "- describe()를 이용한 행의 정보입니다.\n",
        "- 데이터셋에서 평균적으로 3.5번 주문을 했고, 총 49002개의 데이터가 있습니다. 최소 1번 이상 주문한 고객들만 모았네요.\n",
        "- 마지막 주문 이후 웹사이트 방문기록은 평균 92.7분입니다. 최대 8203분(136.7시간) 동안 주문하지 않고 머무른 고객도 있네요. 이상 탐지가 필요할 듯 합니다. - 경쟁 기업은 아닐지?)\n",
        "- 100분 이상 머무른 고객에게는 쿠폰을 발급하는 것도 좋겠네요."
      ]
    },
    {
      "cell_type": "code",
      "metadata": {
        "colab": {
          "base_uri": "https://localhost:8080/"
        },
        "id": "pJjeJtnsaErC",
        "outputId": "723d8de2-36a6-4251-dd8e-bc69a4ec428e"
      },
      "source": [
        "data.describe(\"total_web_sessions_since_last_order\", \"total_minutes_on_website_since_last_order\", \"wet_trays\").show()"
      ],
      "execution_count": null,
      "outputs": [
        {
          "output_type": "stream",
          "text": [
            "+-------+-----------------------------------+-----------------------------------------+------------------+\n",
            "|summary|total_web_sessions_since_last_order|total_minutes_on_website_since_last_order|         wet_trays|\n",
            "+-------+-----------------------------------+-----------------------------------------+------------------+\n",
            "|  count|                              49042|                                    49042|             49042|\n",
            "|   mean|                 2.0364789364218425|                        92.71646751763794| 5.432139798540027|\n",
            "| stddev|                  2.619177606705806|                       291.26281915410124|10.888737406010312|\n",
            "|    min|                                  0|                                        0|                 0|\n",
            "|    max|                                 51|                                     8203|               248|\n",
            "+-------+-----------------------------------+-----------------------------------------+------------------+\n",
            "\n"
          ],
          "name": "stdout"
        }
      ]
    },
    {
      "cell_type": "markdown",
      "metadata": {
        "id": "KE3Mrk6SbdBy"
      },
      "source": [
        "- wet tray는 습식 캔의 갯수입니다. 구매한 캔의 갯수인지, 장바구니에 담긴 갯수인지는 캐글 사이트에 명확히 기재되어있지 않았습니다. \n",
        "- 해당 데이터가 없는 고객은 null로 count에 들어갔습니다.\n",
        "- 평균 5.43개가 있습니다.\n",
        "\n",
        "- 마지막 주문 이후 웹사이트 세션은 평균 2번입니다. 2번 방문 후 새로 구매했을 수도 있고, 아닐 수도 있습니다. (아직 미구매 고객의 경우)"
      ]
    },
    {
      "cell_type": "code",
      "metadata": {
        "colab": {
          "base_uri": "https://localhost:8080/"
        },
        "id": "X7qknU-VYjIL",
        "outputId": "22eeafc4-598c-4ee9-b849-704f818b6b8d"
      },
      "source": [
        "data.groupby(\"pet_food_tier\").count().orderBy(\"count\", ascending=False).show()"
      ],
      "execution_count": null,
      "outputs": [
        {
          "output_type": "stream",
          "text": [
            "+-------------+-----+\n",
            "|pet_food_tier|count|\n",
            "+-------------+-----+\n",
            "| superpremium|28531|\n",
            "|          mid|11518|\n",
            "|      premium| 8993|\n",
            "+-------------+-----+\n",
            "\n"
          ],
          "name": "stdout"
        }
      ]
    },
    {
      "cell_type": "markdown",
      "metadata": {
        "id": "E7LOO0hPYwy6"
      },
      "source": [
        "- 사료 등급으로 주문을 묶어보았습니다. 가장 좋은 등급의 주문이 많았고, 2번째로 좋았던 등급의 주문이 가장 적었네요. 2위인 mid 등급과 1위인 super premium 등급의 차이가 크다는 것이 흥미롭습니다. 반려동물에게 좋은 것만 먹이고 싶다는 주인의 마음인 걸까요?"
      ]
    },
    {
      "cell_type": "code",
      "metadata": {
        "colab": {
          "base_uri": "https://localhost:8080/"
        },
        "id": "JMdA99crZ1A8",
        "outputId": "dad1da3a-d779-4d5c-82b5-e35d41665326"
      },
      "source": [
        "data.groupby(\"pet_breed_size\").count().orderBy(\"count\", ascending=False).show()"
      ],
      "execution_count": null,
      "outputs": [
        {
          "output_type": "stream",
          "text": [
            "+--------------+-----+\n",
            "|pet_breed_size|count|\n",
            "+--------------+-----+\n",
            "|         small|15751|\n",
            "|        medium|14657|\n",
            "|         large|10894|\n",
            "|           toy| 6632|\n",
            "|         giant| 1108|\n",
            "+--------------+-----+\n",
            "\n"
          ],
          "name": "stdout"
        }
      ]
    },
    {
      "cell_type": "markdown",
      "metadata": {
        "id": "GY-_ofDIZ7Xx"
      },
      "source": [
        "- 키우는 동물의 사이즈는 소형, 중형이 가장 많았습니다. 거대종은 수가 매우 적네요."
      ]
    },
    {
      "cell_type": "markdown",
      "metadata": {
        "id": "OMe4xmUldVXC"
      },
      "source": [
        "## 고객 필터링 - 할인쿠폰 or 푸시알림 대상"
      ]
    },
    {
      "cell_type": "code",
      "metadata": {
        "colab": {
          "base_uri": "https://localhost:8080/"
        },
        "id": "b5hDn_mOZZb7",
        "outputId": "35316005-0cf6-4d31-b54e-8736c9a2718e"
      },
      "source": [
        "# 필터 1 - 마지막 주문 이후 2번 초과 웹사이트에 방문하고 습식을 주문하지 않은 고객\n",
        "condition1 = (data.total_web_sessions_since_last_order > 2) & (data.wet_food_order_number.isNull())\n",
        "\n",
        "# 필터 2 - 마지막 주문 이후 웹사이트에 100분 초과 체류한 고객\n",
        "condition2 = data.total_minutes_on_website_since_last_order > 100\n",
        "\n",
        "data2 = data.filter(condition1).filter(condition2)\n",
        "data2.show()"
      ],
      "execution_count": null,
      "outputs": [
        {
          "output_type": "stream",
          "text": [
            "+--------------------+--------------------+----------------+---------------------+----------------------------------+---------------------------+-------------+--------------------+--------------------+--------------------+---------------------+--------+------+--------------+---------------+----------------------+------------------------+-----------------------+-------------------+-----------+--------+----------------+---------+-------------------------+-------------+-------------------+------------------+--------------------------+------------------+-----------------------------------+------------------------+-----------------------------------------+----------------------+---------------------------------------+---------------------------------+--------------------------------+\n",
            "|         customer_id|              pet_id|pet_order_number|wet_food_order_number|orders_since_first_wet_trays_order|pet_has_active_subscription|pet_food_tier| pet_signup_datetime|   pet_allergen_list|pet_fav_flavour_list|pet_health_issue_list|neutered|gender|pet_breed_size|   signup_promo|ate_wet_food_pre_tails|dry_food_brand_pre_tails|pet_life_stage_at_order| order_payment_date|kibble_kcal|wet_kcal|total_order_kcal|wet_trays|wet_food_discount_percent|wet_tray_size|premium_treat_packs|dental_treat_packs|wet_food_textures_in_order|total_web_sessions|total_web_sessions_since_last_order|total_minutes_on_website|total_minutes_on_website_since_last_order|total_wet_food_updates|total_wet_food_updates_since_last_order|last_customer_support_ticket_date|customer_support_ticket_category|\n",
            "+--------------------+--------------------+----------------+---------------------+----------------------------------+---------------------------+-------------+--------------------+--------------------+--------------------+---------------------+--------+------+--------------+---------------+----------------------+------------------------+-----------------------+-------------------+-----------+--------+----------------+---------+-------------------------+-------------+-------------------+------------------+--------------------------+------------------+-----------------------------------+------------------------+-----------------------------------------+----------------------+---------------------------------------+---------------------------------+--------------------------------+\n",
            "| 6342772975217424401|11842806521695140337|              11|                 null|                              null|                       true|      premium|1970-01-01 00:00:...|                null|                null|                 null|    true|female|        medium| Refer a Friend|                  true|    Pets at Home Comp...|                 mature|2020-02-13 00:00:00|   11632.74|     0.0|        13857.54|        0|                     null|         None|                  0|                 4|                      null|                41|                                  6|                     948|                                      813|                     0|                                      0|                             null|                            null|\n",
            "| 4432388076718555246| 1618828947225592661|               3|                 null|                              null|                       true| superpremium|1970-01-01 00:00:...|beef dairy egg so...|                null|                 null|    true|  male|         small| Search Generic|                 false|             Royal Canin|                 mature|2020-01-28 00:00:00|  12226.376|     0.0|       12226.376|        0|                     null|         None|                  0|                 0|                      null|                 9|                                  4|                     244|                                      117|                     0|                                      0|                             null|                            null|\n",
            "|  894531069061266030|10743516050352051975|               3|                 null|                              null|                       true| superpremium|1970-01-01 00:00:...|                null|             Chicken|            digestion|    true|female|        medium| Null & Default|                 false|             Royal Canin|                 mature|2019-12-27 00:00:00|  24672.357|     0.0|       24672.357|        0|                     null|         None|                  0|                 0|                      null|                 7|                                  5|                     809|                                      786|                     0|                                      0|                             null|                            null|\n",
            "|10941300957859174482|14022627820912247953|               3|                 null|                               3.0|                       true|          mid|1970-01-01 00:00:...|                null|                null|               joints|    true|  male|         large| Search Generic|                 false|             Harringtons|                 senior|2019-11-11 00:00:00|  36193.388|     0.0|       36193.388|        0|                     null|         None|                  0|                 0|                      null|                 9|                                  6|                     862|                                      346|                     0|                                      0|             2019-10-19 17:24:...|                        delivery|\n",
            "|10252607421287071777| 7097810368607450698|               5|                 null|                              null|                       true| superpremium|1970-01-01 00:00:...|                null|                null|        skin and coat|    true|female|        medium| Refer a Friend|                 false|            Wainwright's|          half_maturity|2019-12-10 00:00:00|  28926.722|     0.0|       28926.722|        0|                     null|         None|                  0|                 0|                      null|                18|                                  4|                     612|                                      151|                     0|                                      0|             2019-08-21 14:01:...|                         portion|\n",
            "|10252607421287071777| 7097810368607450698|               2|                 null|                              null|                       true| superpremium|1970-01-01 00:00:...|                null|                null|        skin and coat|    true|female|        medium| Refer a Friend|                 false|            Wainwright's|          half_maturity|2019-09-11 00:00:00| 22804.5205|     0.0|      22804.5205|        0|                     null|         None|                  0|                 0|                      null|                 7|                                  5|                     438|                                      205|                     0|                                      0|             2019-08-21 14:01:...|                         portion|\n",
            "|10252607421287071777| 7097810368607450698|               6|                 null|                              null|                       true| superpremium|1970-01-01 00:00:...|                null|                null|        skin and coat|    true|female|        medium| Refer a Friend|                 false|            Wainwright's|          half_maturity|2020-01-07 00:00:00|  32514.993|     0.0|       32514.993|        0|                     null|         None|                  0|                 0|                      null|                24|                                  6|                    1045|                                      433|                     0|                                      0|             2019-08-21 14:01:...|                         portion|\n",
            "| 3351231956021909975|13906845637487429005|               1|                 null|                              null|                       true| superpremium|1970-01-01 00:00:...|                null|                null|                 null|   false|female|           toy| Null & Default|                 false|                    Iams|          half_maturity|2020-02-11 00:00:00|   5143.345|     0.0|        5509.795|        0|                     null|         None|                  0|                 1|                      null|                12|                                 11|                     125|                                      103|                     0|                                      0|             2020-02-11 12:36:...|                         payment|\n",
            "| 8729246835216974725|17259086972433033075|               2|                 null|                              null|                       true|          mid|1970-01-01 00:00:...|beef dairy egg so...|        Beef Chicken| digestion, skin a...|    true|  male|         small|   Search Brand|                 false|             Harringtons|                 mature|2020-03-01 00:00:00|  11185.182|     0.0|       11185.182|        0|                     null|         None|                  0|                 0|                      null|                 7|                                  3|                    1088|                                      713|                     0|                                      0|                             null|                            null|\n",
            "| 8729246835216974725|17259086972433033075|               1|                 null|                              null|                       true|          mid|1970-01-01 00:00:...|beef dairy egg so...|        Beef Chicken| digestion, skin a...|    true|  male|         small|   Search Brand|                 false|             Harringtons|                 mature|2020-02-14 00:00:00|   6533.384|     0.0|        6533.384|        0|                     null|         None|                  0|                 0|                      null|                 4|                                  3|                     375|                                      358|                     0|                                      0|                             null|                            null|\n",
            "|14039702734173581745|13979918611750613577|               2|                 null|                              null|                      false|      premium|1970-01-01 00:00:...|                null|                null|                 null|    true|  male|         small|    Incompletes|                 false|                 Dr John|          half_maturity|2019-01-20 00:00:00|  17065.434|     0.0|       17065.434|        0|                     null|         None|                  0|                 0|                      null|                 7|                                  6|                     216|                                      208|                     0|                                      0|             2019-01-17 14:45:...|                         account|\n",
            "|14642989868110800483|14320776040776880512|               3|                 null|                              null|                       true|      premium|1970-01-01 00:00:...|                null|             Chicken|                 null|    true|  male|        medium|     Affiliates|                 false|                 Dr John|                 mature|2019-03-17 00:00:00|  30226.146|     0.0|       30226.146|        0|                     null|         None|                  0|                 0|                      null|                 4|                                  3|                     143|                                      126|                     0|                                      0|                             null|                            null|\n",
            "|15066026800948125143|17563818988404718093|               6|                 null|                              null|                       true| superpremium|1970-01-01 00:00:...|                null|                null|                 null|    true|  male|           toy|    Incompletes|                 false|    Royal Canin Breed...|                 mature|2019-07-28 00:00:00|    4911.33|     0.0|  4941.925001221|        0|                     null|         None|                  1|                 0|                      null|                19|                                  4|                     758|                                      244|                     0|                                      0|             2019-05-23 22:12:...|                         general|\n",
            "|10934474988282681699| 1533906159038656395|               2|                 null|                              null|                      false|          mid|1970-01-01 00:00:...|   grain maize wheat|        Beef Chicken|        skin and coat|    true|  male|         small| Null & Default|                 false|                  Bakers|                 mature|2019-02-24 00:00:00|  22144.446|     0.0|       22144.446|        0|                     null|         None|                  0|                 0|                      null|                 5|                                  3|                    2100|                                     1593|                     0|                                      0|                             null|                            null|\n",
            "|13759421751603795945| 5373255494504786511|               2|                 null|                              null|                      false|          mid|1970-01-01 00:00:...|               grain|                null|            digestion|    true|female|         large|         Events|                 false|             Harringtons|                 mature|2019-11-03 00:00:00|  41448.772|     0.0|       41448.772|        0|                     null|         None|                  0|                 0|                      null|                 4|                                  3|                     426|                                      411|                     0|                                      0|                             null|                            null|\n",
            "|18133844706449358146|16310167637619258187|               2|                 null|                              null|                       true|          mid|1970-01-01 00:00:...|dairy egg fish so...|                Lamb| digestion, skin a...|    true|  male|        medium| Null & Default|                 false|               Asda Hero|          half_maturity|2019-08-13 00:00:00|  31531.072|     0.0|       31531.072|        0|                     null|         None|                  0|                 0|                      null|                 6|                                  4|                     130|                                      113|                     0|                                      0|                             null|                            null|\n",
            "|18133844706449358146|16310167637619258187|               8|                 null|                              null|                       true|          mid|1970-01-01 00:00:...|dairy egg fish so...|                Lamb| digestion, skin a...|    true|  male|        medium| Null & Default|                 false|               Asda Hero|                 mature|2020-02-11 00:00:00|  43134.457|     0.0|       43134.457|        0|                     null|         None|                  0|                 0|                      null|                19|                                  4|                     904|                                      675|                     0|                                      0|             2020-01-01 19:29:...|                         account|\n",
            "| 9402877264913693566| 9726165614836696514|               3|                 null|                              null|                      false|          mid|1970-01-01 00:00:...|                null|                null|                 null|    true|female|        medium| Search Generic|                 false|                Chudleys|                 mature|2019-07-28 00:00:00|   12969.42|     0.0|        12969.42|        0|                     null|         None|                  0|                 0|                      null|                 7|                                  4|                     185|                                      123|                     0|                                      0|                             null|                            null|\n",
            "|13163725539461376160| 8855946460563455792|              10|                 null|                              null|                       true| superpremium|1970-01-01 00:00:...|               grain|                null|            digestion|   false|female|        medium| Search Generic|                 false|             Royal Canin|                 mature|2019-12-27 00:00:00|  20786.303|     0.0|       20786.303|        0|                     null|         None|                  0|                 0|                      null|                17|                                  3|                    1974|                                      586|                     0|                                      0|                             null|                            null|\n",
            "|17789437166920869425| 2173697118299830913|               7|                 null|                              null|                       true|          mid|1970-01-01 00:00:...|   grain maize wheat|        Beef Chicken|                 null|   false|  male|         small|Digital Display|                  true|    Lifestage from Jo...|                 mature|2019-07-07 00:00:00|  12230.958|     0.0|       12230.958|        0|                     null|         None|                  0|                 0|                      null|                19|                                  3|                    1524|                                      112|                     0|                                      0|                             null|                            null|\n",
            "+--------------------+--------------------+----------------+---------------------+----------------------------------+---------------------------+-------------+--------------------+--------------------+--------------------+---------------------+--------+------+--------------+---------------+----------------------+------------------------+-----------------------+-------------------+-----------+--------+----------------+---------+-------------------------+-------------+-------------------+------------------+--------------------------+------------------+-----------------------------------+------------------------+-----------------------------------------+----------------------+---------------------------------------+---------------------------------+--------------------------------+\n",
            "only showing top 20 rows\n",
            "\n"
          ],
          "name": "stdout"
        }
      ]
    },
    {
      "cell_type": "code",
      "metadata": {
        "colab": {
          "base_uri": "https://localhost:8080/"
        },
        "id": "UaLwhCpWc0Ky",
        "outputId": "4c5e5be7-ee33-4f3b-949a-d8f7e1caefa9"
      },
      "source": [
        "data2.count()"
      ],
      "execution_count": null,
      "outputs": [
        {
          "output_type": "execute_result",
          "data": {
            "text/plain": [
              "4011"
            ]
          },
          "metadata": {
            "tags": []
          },
          "execution_count": 46
        }
      ]
    },
    {
      "cell_type": "markdown",
      "metadata": {
        "id": "2LFJWMw-dIJv"
      },
      "source": [
        "- 49000여개의 데이터 중 4011개의 고객이 남았습니다.\n",
        "- 이 고객을 대상으로 할인쿠폰 발행 & 푸시 알림 등을 하고 효과가 있는지 지켜보면 좋겠네요."
      ]
    },
    {
      "cell_type": "markdown",
      "metadata": {
        "id": "f9oh-ktcdoWP"
      },
      "source": [
        "## 모델 빌딩"
      ]
    },
    {
      "cell_type": "code",
      "metadata": {
        "id": "W9mFfe7RoxFZ"
      },
      "source": [
        "# integer 칼럼의 null을 0으로 대체\n",
        "data = data.na.fill(value=0)"
      ],
      "execution_count": 3,
      "outputs": []
    },
    {
      "cell_type": "code",
      "metadata": {
        "colab": {
          "base_uri": "https://localhost:8080/"
        },
        "id": "YgVD1phgsrsX",
        "outputId": "7af37f3d-40ce-453e-a5ce-97b0c07afc41"
      },
      "source": [
        "data.show()"
      ],
      "execution_count": null,
      "outputs": [
        {
          "output_type": "stream",
          "text": [
            "+--------------------+--------------------+----------------+---------------------+----------------------------------+---------------------------+-------------+--------------------+-----------------+--------------------+---------------------+--------+------+--------------+---------------+----------------------+------------------------+-----------------------+-------------------+-----------+--------+----------------+---------+-------------------------+-------------+-------------------+------------------+--------------------------+------------------+-----------------------------------+------------------------+-----------------------------------------+----------------------+---------------------------------------+---------------------------------+--------------------------------+\n",
            "|         customer_id|              pet_id|pet_order_number|wet_food_order_number|orders_since_first_wet_trays_order|pet_has_active_subscription|pet_food_tier| pet_signup_datetime|pet_allergen_list|pet_fav_flavour_list|pet_health_issue_list|neutered|gender|pet_breed_size|   signup_promo|ate_wet_food_pre_tails|dry_food_brand_pre_tails|pet_life_stage_at_order| order_payment_date|kibble_kcal|wet_kcal|total_order_kcal|wet_trays|wet_food_discount_percent|wet_tray_size|premium_treat_packs|dental_treat_packs|wet_food_textures_in_order|total_web_sessions|total_web_sessions_since_last_order|total_minutes_on_website|total_minutes_on_website_since_last_order|total_wet_food_updates|total_wet_food_updates_since_last_order|last_customer_support_ticket_date|customer_support_ticket_category|\n",
            "+--------------------+--------------------+----------------+---------------------+----------------------------------+---------------------------+-------------+--------------------+-----------------+--------------------+---------------------+--------+------+--------------+---------------+----------------------+------------------------+-----------------------+-------------------+-----------+--------+----------------+---------+-------------------------+-------------+-------------------+------------------+--------------------------+------------------+-----------------------------------+------------------------+-----------------------------------------+----------------------+---------------------------------------+---------------------------------+--------------------------------+\n",
            "|10574848487411271014| 4466839344031767293|               2|                  1.0|                               1.0|                       true| superpremium|1970-01-01 00:00:...|             null|             Chicken|    digestion, joints|    true|female|         large| Null & Default|                  true|                 Canagan|                 mature|2019-04-11 00:00:00|  36876.724| 1234.65|       38111.374|       11|                      0.0|         150g|                  0|                 0|          gravy jelly pate|                 6|                                  4|                     101|                                       32|                     0|                                      0|             2019-03-16 09:10:...|                       proactive|\n",
            "|10574848487411271014| 4466839344031767293|               1|                  0.0|                               0.0|                       true| superpremium|1970-01-01 00:00:...|             null|             Chicken|    digestion, joints|    true|female|         large| Null & Default|                  true|                 Canagan|                 mature|2019-03-18 00:00:00|  21419.305|     0.0|       21419.305|        0|                      0.0|         None|                  0|                 0|                      null|                 2|                                  1|                      69|                                        3|                     0|                                      0|             2019-03-16 09:10:...|                       proactive|\n",
            "|10574848487411271014| 4466839344031767293|               8|                  7.0|                               7.0|                       true| superpremium|1970-01-01 00:00:...|             null|             Chicken|    digestion, joints|    true|female|         large| Null & Default|                  true|                 Canagan|                 mature|2019-10-27 00:00:00|  18352.836|  6624.0|       24976.836|       60|                      0.0|         150g|                  0|                 0|          gravy jelly pate|                18|                                  0|                     184|                                        0|                     0|                                      0|             2019-10-26 06:10:...|                         account|\n",
            "|10574848487411271014| 4466839344031767293|               4|                  3.0|                               3.0|                       true| superpremium|1970-01-01 00:00:...|             null|             Chicken|    digestion, joints|    true|female|         large| Null & Default|                  true|                 Canagan|                 mature|2019-05-20 00:00:00|  36617.214|  2901.9|       39519.114|       26|                      0.0|         150g|                  0|                 0|          gravy jelly pate|                13|                                  6|                     130|                                       15|                     0|                                      0|             2019-04-23 06:28:...|                         account|\n",
            "|10574848487411271014| 4466839344031767293|               9|                  8.0|                               8.0|                       true| superpremium|1970-01-01 00:00:...|             null|             Chicken|    digestion, joints|    true|female|         large| Null & Default|                  true|                 Canagan|                 mature|2019-11-20 00:00:00|    18340.3|  6624.0|         24964.3|       60|                      0.0|         150g|                  0|                 0|          gravy jelly pate|                19|                                  1|                     184|                                        0|                     0|                                      0|             2019-10-26 06:10:...|                         account|\n",
            "| 6342772975217424401|11842806521695140337|               6|                  0.0|                               0.0|                       true|      premium|1970-01-01 00:00:...|             null|                null|                 null|    true|female|        medium| Refer a Friend|                  true|    Pets at Home Comp...|                 mature|2019-08-15 00:00:00|   14435.99|     0.0|        14435.99|        0|                      0.0|         None|                  0|                 0|                      null|                15|                                  2|                     118|                                        1|                     0|                                      0|                             null|                            null|\n",
            "| 6342772975217424401|11842806521695140337|               3|                  0.0|                               0.0|                       true|      premium|1970-01-01 00:00:...|             null|                null|                 null|    true|female|        medium| Refer a Friend|                  true|    Pets at Home Comp...|                 mature|2019-05-05 00:00:00|    9982.41|     0.0|         9982.41|        0|                      0.0|         None|                  0|                 0|                      null|                 7|                                  5|                      36|                                        1|                     0|                                      0|                             null|                            null|\n",
            "| 6342772975217424401|11842806521695140337|               9|                  0.0|                               0.0|                       true|      premium|1970-01-01 00:00:...|             null|                null|                 null|    true|female|        medium| Refer a Friend|                  true|    Pets at Home Comp...|                 mature|2019-12-04 00:00:00|   14364.79|     0.0|        14725.59|        0|                      0.0|         None|                  0|                 0|                      null|                32|                                  6|                     134|                                        4|                     0|                                      0|                             null|                            null|\n",
            "| 6342772975217424401|11842806521695140337|               1|                  0.0|                               0.0|                       true|      premium|1970-01-01 00:00:...|             null|                null|                 null|    true|female|        medium| Refer a Friend|                  true|    Pets at Home Comp...|                 mature|2019-03-07 00:00:00|   10012.05|     0.0|        10012.05|        0|                      0.0|         None|                  0|                 0|                      null|                 1|                                  0|                      32|                                        0|                     0|                                      0|                             null|                            null|\n",
            "| 6342772975217424401|11842806521695140337|               7|                  0.0|                               0.0|                       true|      premium|1970-01-01 00:00:...|             null|                null|                 null|    true|female|        medium| Refer a Friend|                  true|    Pets at Home Comp...|                 mature|2019-09-25 00:00:00|   14348.89|     0.0|        14348.89|        0|                      0.0|         None|                  0|                 0|                      null|                20|                                  5|                     127|                                        9|                     0|                                      0|                             null|                            null|\n",
            "| 6342772975217424401|11842806521695140337|              11|                  0.0|                               0.0|                       true|      premium|1970-01-01 00:00:...|             null|                null|                 null|    true|female|        medium| Refer a Friend|                  true|    Pets at Home Comp...|                 mature|2020-02-13 00:00:00|   11632.74|     0.0|        13857.54|        0|                      0.0|         None|                  0|                 4|                      null|                41|                                  6|                     948|                                      813|                     0|                                      0|                             null|                            null|\n",
            "| 6342772975217424401|11842806521695140337|               2|                  0.0|                               0.0|                       true|      premium|1970-01-01 00:00:...|             null|                null|                 null|    true|female|        medium| Refer a Friend|                  true|    Pets at Home Comp...|                 mature|2019-04-03 00:00:00|   10032.56|     0.0|        10032.56|        0|                      0.0|         None|                  0|                 0|                      null|                 2|                                  1|                      35|                                        3|                     0|                                      0|                             null|                            null|\n",
            "| 6342772975217424401|11842806521695140337|               8|                  0.0|                               0.0|                       true|      premium|1970-01-01 00:00:...|             null|                null|                 null|    true|female|        medium| Refer a Friend|                  true|    Pets at Home Comp...|                 mature|2019-10-27 00:00:00|   14318.55|     0.0|        14318.55|        0|                      0.0|         None|                  0|                 0|                      null|                26|                                  6|                     130|                                        3|                     0|                                      0|                             null|                            null|\n",
            "| 6342772975217424401|11842806521695140337|               5|                  0.0|                               0.0|                       true|      premium|1970-01-01 00:00:...|             null|                null|                 null|    true|female|        medium| Refer a Friend|                  true|    Pets at Home Comp...|                 mature|2019-07-10 00:00:00|   14270.09|     0.0|        14270.09|        0|                      0.0|         None|                  0|                 0|                      null|                13|                                  2|                     117|                                        7|                     0|                                      0|                             null|                            null|\n",
            "| 6342772975217424401|11842806521695140337|               4|                  0.0|                               0.0|                       true|      premium|1970-01-01 00:00:...|             null|                null|                 null|    true|female|        medium| Refer a Friend|                  true|    Pets at Home Comp...|                 mature|2019-06-02 00:00:00|   15845.56|     0.0|        15845.56|        0|                      0.0|         None|                  0|                 0|                      null|                11|                                  4|                     110|                                       74|                     0|                                      0|                             null|                            null|\n",
            "| 6342772975217424401|11842806521695140337|              10|                  0.0|                               0.0|                       true|      premium|1970-01-01 00:00:...|             null|                null|                 null|    true|female|        medium| Refer a Friend|                  true|    Pets at Home Comp...|                 mature|2020-01-08 00:00:00|    14242.8|     0.0|         14242.8|        0|                      0.0|         None|                  0|                 0|                      null|                35|                                  3|                     135|                                        1|                     0|                                      0|                             null|                            null|\n",
            "| 6018609623462647744| 7813136397831853268|               3|                  0.0|                               0.0|                       true|          mid|1970-01-01 00:00:...|             null|                null|                 null|   false|  male|         small|Digital Display|                 false|                Pedigree|          half_maturity|2020-01-02 00:00:00|  13412.369|     0.0|       13412.369|        0|                      0.0|         None|                  0|                 0|                      null|                 4|                                  2|                      10|                                        0|                     0|                                      0|                             null|                            null|\n",
            "| 6018609623462647744| 7813136397831853268|               2|                  0.0|                               0.0|                       true|          mid|1970-01-01 00:00:...|             null|                null|                 null|   false|  male|         small|Digital Display|                 false|                Pedigree|          half_maturity|2019-12-01 00:00:00|   9987.614|     0.0|        9987.614|        0|                      0.0|         None|                  0|                 0|                      null|                 2|                                  1|                      10|                                        2|                     0|                                      0|                             null|                            null|\n",
            "| 6018609623462647744| 7813136397831853268|               1|                  0.0|                               0.0|                       true|          mid|1970-01-01 00:00:...|             null|                null|                 null|   false|  male|         small|Digital Display|                 false|                Pedigree|                weaning|2019-11-18 00:00:00|   6623.799|     0.0|        6623.799|        0|                      0.0|         None|                  0|                 0|                      null|                 1|                                  0|                       8|                                        0|                     0|                                      0|                             null|                            null|\n",
            "| 6018609623462647744| 7813136397831853268|               5|                  0.0|                               0.0|                       true|          mid|1970-01-01 00:00:...|             null|                null|                 null|   false|  male|         small|Digital Display|                 false|                Pedigree|          half_maturity|2020-02-28 00:00:00|  14835.797|     0.0|       14835.797|        0|                      0.0|         None|                  0|                 0|                      null|                 6|                                  2|                      10|                                        0|                     0|                                      0|                             null|                            null|\n",
            "+--------------------+--------------------+----------------+---------------------+----------------------------------+---------------------------+-------------+--------------------+-----------------+--------------------+---------------------+--------+------+--------------+---------------+----------------------+------------------------+-----------------------+-------------------+-----------+--------+----------------+---------+-------------------------+-------------+-------------------+------------------+--------------------------+------------------+-----------------------------------+------------------------+-----------------------------------------+----------------------+---------------------------------------+---------------------------------+--------------------------------+\n",
            "only showing top 20 rows\n",
            "\n"
          ],
          "name": "stdout"
        }
      ]
    },
    {
      "cell_type": "code",
      "metadata": {
        "id": "bwP9wMe_d4k4"
      },
      "source": [
        "from pyspark.sql.types import DoubleType # 예측을 Double 형태로 함 - 나중에 에러가 덜 난다고 합니다,,\n",
        "\n",
        "data3 = data # shallow copy\n",
        "\n",
        "# withColumn - 원래 컬럼 대체\n",
        "data3 = data3.withColumn(\"pet_order_number\",\n",
        "                         data3[\"pet_order_number\"].cast(DoubleType()))\n",
        "data3 = data3.withColumn(\"orders_since_first_wet_trays_order\",\n",
        "                         data3[\"orders_since_first_wet_trays_order\"].cast(DoubleType()))\n",
        "data3 = data3.withColumn(\"total_web_sessions_since_last_order\",\n",
        "                         data3[\"total_web_sessions_since_last_order\"].cast(DoubleType()))\n",
        "data3 = data3.withColumn(\"total_minutes_on_website_since_last_order\",\n",
        "                         data3[\"total_minutes_on_website_since_last_order\"].cast(DoubleType()))"
      ],
      "execution_count": 6,
      "outputs": []
    },
    {
      "cell_type": "markdown",
      "metadata": {
        "id": "tHPhJN2RlbVD"
      },
      "source": [
        "건식 주문 횟수, 첫번째 습식 주문 후 주문 건수, 마지막 주문 후 웹 세션, 마지막 주문 후 웹사이트 체류 시간을 학습에 사용하고 습식을 주문할지를 예측해 보겠습니다."
      ]
    },
    {
      "cell_type": "markdown",
      "metadata": {
        "id": "y-McC6lpgcSg"
      },
      "source": [
        "### VectorAssembler를 사용해 모델 만들기"
      ]
    },
    {
      "cell_type": "code",
      "metadata": {
        "id": "BJVP2F1OgpOE"
      },
      "source": [
        "from pyspark.ml.feature import VectorAssembler\n",
        "\n",
        "inputcols = [\"pet_order_number\", \"orders_since_first_wet_trays_order\", \"total_web_sessions_since_last_order\",\"total_minutes_on_website_since_last_order\"]\n",
        "\n",
        "assembler = VectorAssembler(inputCols = inputcols, outputCol = \"predictors\")"
      ],
      "execution_count": 21,
      "outputs": []
    },
    {
      "cell_type": "markdown",
      "metadata": {
        "id": "3gBRI_18hv0G"
      },
      "source": [
        "- 예측을 위해 predictor라는 컬럼을 새로 만듭니다."
      ]
    },
    {
      "cell_type": "code",
      "metadata": {
        "colab": {
          "base_uri": "https://localhost:8080/"
        },
        "id": "9_ptnVlbhdkD",
        "outputId": "560261c3-44f7-467e-bd82-ca8e2cb79440"
      },
      "source": [
        "predictors = assembler.transform(data3)\n",
        "\n",
        "predictors.columns"
      ],
      "execution_count": 22,
      "outputs": [
        {
          "output_type": "execute_result",
          "data": {
            "text/plain": [
              "['customer_id',\n",
              " 'pet_id',\n",
              " 'pet_order_number',\n",
              " 'wet_food_order_number',\n",
              " 'orders_since_first_wet_trays_order',\n",
              " 'pet_has_active_subscription',\n",
              " 'pet_food_tier',\n",
              " 'pet_signup_datetime',\n",
              " 'pet_allergen_list',\n",
              " 'pet_fav_flavour_list',\n",
              " 'pet_health_issue_list',\n",
              " 'neutered',\n",
              " 'gender',\n",
              " 'pet_breed_size',\n",
              " 'signup_promo',\n",
              " 'ate_wet_food_pre_tails',\n",
              " 'dry_food_brand_pre_tails',\n",
              " 'pet_life_stage_at_order',\n",
              " 'order_payment_date',\n",
              " 'kibble_kcal',\n",
              " 'wet_kcal',\n",
              " 'total_order_kcal',\n",
              " 'wet_trays',\n",
              " 'wet_food_discount_percent',\n",
              " 'wet_tray_size',\n",
              " 'premium_treat_packs',\n",
              " 'dental_treat_packs',\n",
              " 'wet_food_textures_in_order',\n",
              " 'total_web_sessions',\n",
              " 'total_web_sessions_since_last_order',\n",
              " 'total_minutes_on_website',\n",
              " 'total_minutes_on_website_since_last_order',\n",
              " 'total_wet_food_updates',\n",
              " 'total_wet_food_updates_since_last_order',\n",
              " 'last_customer_support_ticket_date',\n",
              " 'customer_support_ticket_category',\n",
              " 'predictors']"
            ]
          },
          "metadata": {
            "tags": []
          },
          "execution_count": 22
        }
      ]
    },
    {
      "cell_type": "markdown",
      "metadata": {
        "id": "_NY8WEp3hj70"
      },
      "source": [
        "- input 데이터보다 더 많은 숫자의 컬럼이 들어가있네요. 데이터셋의 모든 컬럼을 포함합니다."
      ]
    },
    {
      "cell_type": "code",
      "metadata": {
        "colab": {
          "base_uri": "https://localhost:8080/"
        },
        "id": "T7LrgeTzhzMA",
        "outputId": "775ed3ef-0aa7-405c-98fe-ed6f0767fffa"
      },
      "source": [
        "model_data = predictors.select(\"predictors\", \"pet_food_tier\")\n",
        "\n",
        "model_data.show(15)"
      ],
      "execution_count": null,
      "outputs": [
        {
          "output_type": "stream",
          "text": [
            "+--------------------+-------------+\n",
            "|          predictors|pet_food_tier|\n",
            "+--------------------+-------------+\n",
            "|  [2.0,1.0,4.0,32.0]| superpremium|\n",
            "|   [1.0,0.0,1.0,3.0]| superpremium|\n",
            "|   [8.0,7.0,0.0,0.0]| superpremium|\n",
            "|  [4.0,3.0,6.0,15.0]| superpremium|\n",
            "|   [9.0,8.0,1.0,0.0]| superpremium|\n",
            "|   [6.0,0.0,2.0,1.0]|      premium|\n",
            "|   [3.0,0.0,5.0,1.0]|      premium|\n",
            "|   [9.0,0.0,6.0,4.0]|      premium|\n",
            "|       (4,[0],[1.0])|      premium|\n",
            "|   [7.0,0.0,5.0,9.0]|      premium|\n",
            "|[11.0,0.0,6.0,813.0]|      premium|\n",
            "|   [2.0,0.0,1.0,3.0]|      premium|\n",
            "|   [8.0,0.0,6.0,3.0]|      premium|\n",
            "|   [5.0,0.0,2.0,7.0]|      premium|\n",
            "|  [4.0,0.0,4.0,74.0]|      premium|\n",
            "+--------------------+-------------+\n",
            "only showing top 15 rows\n",
            "\n"
          ],
          "name": "stdout"
        }
      ]
    },
    {
      "cell_type": "markdown",
      "metadata": {
        "id": "UM_aPnnol6Iw"
      },
      "source": [
        "- 학습에 사용한 칼럼을 바탕으로 pet_food_tier (사료 등급) 을 예측합니다.\n",
        "- 프리미엄 사료와 저급 사료를 얼마나 미리 주문할지에 대한 예측으로 사용할 수 있겠네요."
      ]
    },
    {
      "cell_type": "markdown",
      "metadata": {
        "id": "Yi3FCxKOn1Ux"
      },
      "source": [
        "- 습식을 얼마나 주문할지도 예측해 보겠습니다.(전체 데이터 대상)"
      ]
    },
    {
      "cell_type": "code",
      "metadata": {
        "colab": {
          "base_uri": "https://localhost:8080/"
        },
        "id": "C3DWAfinnuVB",
        "outputId": "07f62e76-2584-4d0a-c841-c4daeecc6f66"
      },
      "source": [
        "# 습식 주문횟수 예측\n",
        "model_data = predictors.select(\"predictors\", \"wet_food_order_number\")\n",
        "model_data.show(15)"
      ],
      "execution_count": 23,
      "outputs": [
        {
          "output_type": "stream",
          "text": [
            "+--------------------+---------------------+\n",
            "|          predictors|wet_food_order_number|\n",
            "+--------------------+---------------------+\n",
            "|  [2.0,1.0,4.0,32.0]|                  1.0|\n",
            "|   [1.0,0.0,1.0,3.0]|                  0.0|\n",
            "|   [8.0,7.0,0.0,0.0]|                  7.0|\n",
            "|  [4.0,3.0,6.0,15.0]|                  3.0|\n",
            "|   [9.0,8.0,1.0,0.0]|                  8.0|\n",
            "|   [6.0,0.0,2.0,1.0]|                  0.0|\n",
            "|   [3.0,0.0,5.0,1.0]|                  0.0|\n",
            "|   [9.0,0.0,6.0,4.0]|                  0.0|\n",
            "|       (4,[0],[1.0])|                  0.0|\n",
            "|   [7.0,0.0,5.0,9.0]|                  0.0|\n",
            "|[11.0,0.0,6.0,813.0]|                  0.0|\n",
            "|   [2.0,0.0,1.0,3.0]|                  0.0|\n",
            "|   [8.0,0.0,6.0,3.0]|                  0.0|\n",
            "|   [5.0,0.0,2.0,7.0]|                  0.0|\n",
            "|  [4.0,0.0,4.0,74.0]|                  0.0|\n",
            "+--------------------+---------------------+\n",
            "only showing top 15 rows\n",
            "\n"
          ],
          "name": "stdout"
        }
      ]
    },
    {
      "cell_type": "markdown",
      "metadata": {
        "id": "HQsGPkUzqZRY"
      },
      "source": [
        "- 이 예측의 정확률이 높다면 습식을 어느 정도로 미리 주문해놓을지, 재고관리가 편리해질 것입니다."
      ]
    },
    {
      "cell_type": "code",
      "metadata": {
        "id": "wWJV98vtkCSD"
      },
      "source": [
        "# 학습, 테스트 데이터 8:2로 나누기\n",
        "\n",
        "train_data, test_data = model_data.randomSplit([0.8, 0.2])"
      ],
      "execution_count": 24,
      "outputs": []
    },
    {
      "cell_type": "code",
      "metadata": {
        "id": "sv59QTUrmQLB"
      },
      "source": [
        "# 선형회귀 모델 사용\n",
        "from pyspark.ml.regression import LinearRegression\n",
        "\n",
        "lr = LinearRegression(\n",
        "    featuresCol = 'predictors', \n",
        "    labelCol = 'wet_food_order_number', \n",
        "    maxIter=10, regParam=0.3, elasticNetParam=0.8)\n",
        "\n",
        "lrModel = lr.fit(train_data)\n",
        "\n",
        "pred = lrModel.evaluate(test_data)"
      ],
      "execution_count": null,
      "outputs": []
    },
    {
      "cell_type": "code",
      "metadata": {
        "colab": {
          "base_uri": "https://localhost:8080/"
        },
        "id": "72OoyCX5oSmR",
        "outputId": "5b7ae488-99f6-42ac-cc0b-eec974705578"
      },
      "source": [
        "lrModel.coefficients\n",
        "# 회귀계수 - 독립변수가 한 단위 변화함에 따라 종속변수에 미치는 영향력 크기\n",
        "# 하지만 두 변수 사이에 상관관계가 없으면 회귀계수는 의미가 없게 된다."
      ],
      "execution_count": null,
      "outputs": [
        {
          "output_type": "execute_result",
          "data": {
            "text/plain": [
              "DenseVector([0.0, 0.6227, 0.0, 0.0])"
            ]
          },
          "metadata": {
            "tags": []
          },
          "execution_count": 50
        }
      ]
    },
    {
      "cell_type": "code",
      "metadata": {
        "colab": {
          "base_uri": "https://localhost:8080/"
        },
        "id": "5RoumB8arvOe",
        "outputId": "43ec1a05-b836-47a9-ce2d-fb0f02bfcd22"
      },
      "source": [
        "lrModel.intercept\n",
        "# 절편"
      ],
      "execution_count": null,
      "outputs": [
        {
          "output_type": "execute_result",
          "data": {
            "text/plain": [
              "0.18303081409941796"
            ]
          },
          "metadata": {
            "tags": []
          },
          "execution_count": 51
        }
      ]
    },
    {
      "cell_type": "code",
      "metadata": {
        "colab": {
          "base_uri": "https://localhost:8080/"
        },
        "id": "eiyuP056sCgk",
        "outputId": "92caba1b-f126-40bd-c1ae-3878c92ce9af"
      },
      "source": [
        "pred.predictions.show(20)"
      ],
      "execution_count": null,
      "outputs": [
        {
          "output_type": "stream",
          "text": [
            "+-------------+---------------------+-------------------+\n",
            "|   predictors|wet_food_order_number|         prediction|\n",
            "+-------------+---------------------+-------------------+\n",
            "|(4,[0],[1.0])|                  0.0|0.18588208627462324|\n",
            "|(4,[0],[1.0])|                  0.0|0.18588208627462324|\n",
            "|(4,[0],[1.0])|                  0.0|0.18588208627462324|\n",
            "|(4,[0],[1.0])|                  0.0|0.18588208627462324|\n",
            "|(4,[0],[1.0])|                  0.0|0.18588208627462324|\n",
            "|(4,[0],[1.0])|                  0.0|0.18588208627462324|\n",
            "|(4,[0],[1.0])|                  0.0|0.18588208627462324|\n",
            "|(4,[0],[1.0])|                  0.0|0.18588208627462324|\n",
            "|(4,[0],[1.0])|                  0.0|0.18588208627462324|\n",
            "|(4,[0],[1.0])|                  0.0|0.18588208627462324|\n",
            "|(4,[0],[1.0])|                  0.0|0.18588208627462324|\n",
            "|(4,[0],[1.0])|                  0.0|0.18588208627462324|\n",
            "|(4,[0],[1.0])|                  0.0|0.18588208627462324|\n",
            "|(4,[0],[1.0])|                  0.0|0.18588208627462324|\n",
            "|(4,[0],[1.0])|                  0.0|0.18588208627462324|\n",
            "|(4,[0],[1.0])|                  0.0|0.18588208627462324|\n",
            "|(4,[0],[1.0])|                  0.0|0.18588208627462324|\n",
            "|(4,[0],[1.0])|                  0.0|0.18588208627462324|\n",
            "|(4,[0],[1.0])|                  0.0|0.18588208627462324|\n",
            "|(4,[0],[1.0])|                  0.0|0.18588208627462324|\n",
            "+-------------+---------------------+-------------------+\n",
            "only showing top 20 rows\n",
            "\n"
          ],
          "name": "stdout"
        }
      ]
    },
    {
      "cell_type": "markdown",
      "metadata": {
        "id": "3kQktsxHsRY0"
      },
      "source": [
        "- 아니.. 예측이 다 같네요. 0으로 찍은 듯 합니다."
      ]
    },
    {
      "cell_type": "code",
      "metadata": {
        "colab": {
          "base_uri": "https://localhost:8080/"
        },
        "id": "89dNEZbk8ogp",
        "outputId": "667ce2c9-71f1-4954-f961-da355db0420b"
      },
      "source": [
        "from pyspark.ml.evaluation import RegressionEvaluator\n",
        "eval = RegressionEvaluator(\n",
        "    labelCol = \"wet_food_order_number\",\n",
        "    predictionCol = \"prediction\",\n",
        "    metricName= \"rmse\"\n",
        ")\n",
        "\n",
        "rmse = eval.evaluate(pred.predictions)\n",
        "mse = eval.evaluate(pred.predictions, {eval.metricName: \"mse\"})\n",
        "mae = eval.evaluate(pred.predictions, {eval.metricName: \"mae\"})\n",
        "r2 = eval.evaluate(pred.predictions, {eval.metricName: \"r2\"})\n",
        "print(\"rmse: \", rmse)\n",
        "print(\"mse: \", mse)\n",
        "print(\"mae: \", mae)\n",
        "print(\"r2: \", r2)"
      ],
      "execution_count": null,
      "outputs": [
        {
          "output_type": "stream",
          "text": [
            "rmse:  0.9039394463158053\n",
            "mse:  0.8171065226057246\n",
            "mae:  0.4675242641346339\n",
            "r2:  0.7286860077940147\n"
          ],
          "name": "stdout"
        }
      ]
    },
    {
      "cell_type": "markdown",
      "metadata": {
        "id": "yTJFD5SJuuqo"
      },
      "source": [
        "### 랜덤포레스트 모델 사용"
      ]
    },
    {
      "cell_type": "code",
      "metadata": {
        "id": "CgRk_ODIvGYH"
      },
      "source": [
        "inputcols = ['pet_health_issue_list', 'pet_breed_size','pet_order_number', 'orders_since_first_wet_trays_order', 'wet_trays', 'total_web_sessions', 'total_wet_food_updates', 'total_web_sessions_since_last_order', 'total_minutes_on_website_since_last_order']"
      ],
      "execution_count": null,
      "outputs": []
    },
    {
      "cell_type": "code",
      "metadata": {
        "id": "PVd7Lj0z6k-N"
      },
      "source": [
        "from pyspark.ml.regression import RandomForestRegressor"
      ],
      "execution_count": null,
      "outputs": []
    },
    {
      "cell_type": "code",
      "metadata": {
        "id": "8pUkSTag7Oos"
      },
      "source": [
        "rf = RandomForestRegressor(\n",
        "    featuresCol = 'predictors', \n",
        "    labelCol = 'wet_food_order_number')\n",
        "\n",
        "rfModel = rf.fit(train_data)\n",
        "\n",
        "pred = rfModel.transform(test_data)"
      ],
      "execution_count": null,
      "outputs": []
    },
    {
      "cell_type": "code",
      "metadata": {
        "colab": {
          "base_uri": "https://localhost:8080/"
        },
        "id": "Aw6thVUD751n",
        "outputId": "8bf5e3b1-61f0-4819-c7ad-b8fd4fbb775e"
      },
      "source": [
        "pred.show()"
      ],
      "execution_count": null,
      "outputs": [
        {
          "output_type": "stream",
          "text": [
            "+-------------+---------------------+--------------------+\n",
            "|   predictors|wet_food_order_number|          prediction|\n",
            "+-------------+---------------------+--------------------+\n",
            "|(4,[0],[1.0])|                  0.0|0.013181863181863183|\n",
            "|(4,[0],[1.0])|                  0.0|0.013181863181863183|\n",
            "|(4,[0],[1.0])|                  0.0|0.013181863181863183|\n",
            "|(4,[0],[1.0])|                  0.0|0.013181863181863183|\n",
            "|(4,[0],[1.0])|                  0.0|0.013181863181863183|\n",
            "|(4,[0],[1.0])|                  0.0|0.013181863181863183|\n",
            "|(4,[0],[1.0])|                  0.0|0.013181863181863183|\n",
            "|(4,[0],[1.0])|                  0.0|0.013181863181863183|\n",
            "|(4,[0],[1.0])|                  0.0|0.013181863181863183|\n",
            "|(4,[0],[1.0])|                  0.0|0.013181863181863183|\n",
            "|(4,[0],[1.0])|                  0.0|0.013181863181863183|\n",
            "|(4,[0],[1.0])|                  0.0|0.013181863181863183|\n",
            "|(4,[0],[1.0])|                  0.0|0.013181863181863183|\n",
            "|(4,[0],[1.0])|                  0.0|0.013181863181863183|\n",
            "|(4,[0],[1.0])|                  0.0|0.013181863181863183|\n",
            "|(4,[0],[1.0])|                  0.0|0.013181863181863183|\n",
            "|(4,[0],[1.0])|                  0.0|0.013181863181863183|\n",
            "|(4,[0],[1.0])|                  0.0|0.013181863181863183|\n",
            "|(4,[0],[1.0])|                  0.0|0.013181863181863183|\n",
            "|(4,[0],[1.0])|                  0.0|0.013181863181863183|\n",
            "+-------------+---------------------+--------------------+\n",
            "only showing top 20 rows\n",
            "\n"
          ],
          "name": "stdout"
        }
      ]
    },
    {
      "cell_type": "markdown",
      "metadata": {
        "id": "-SJWyj7w8P0q"
      },
      "source": [
        "- 역시 다 같은 값으로 찍었습니다....."
      ]
    },
    {
      "cell_type": "code",
      "metadata": {
        "colab": {
          "base_uri": "https://localhost:8080/"
        },
        "id": "bVO379IV9hzE",
        "outputId": "fc8e8e62-7d43-4eab-9454-8032ffd55cf8"
      },
      "source": [
        "eval = RegressionEvaluator(\n",
        "    labelCol = \"wet_food_order_number\",\n",
        "    predictionCol = \"prediction\",\n",
        "    metricName= \"rmse\"\n",
        ")\n",
        "\n",
        "rmse = eval.evaluate(pred,)\n",
        "mse = eval.evaluate(pred, {eval.metricName: \"mse\"})\n",
        "mae = eval.evaluate(pred, {eval.metricName: \"mae\"})\n",
        "r2 = eval.evaluate(pred, {eval.metricName: \"r2\"})\n",
        "print(\"rmse: \", rmse)\n",
        "print(\"mse: \", mse)\n",
        "print(\"mae: \", mae)\n",
        "print(\"r2: \", r2)"
      ],
      "execution_count": null,
      "outputs": [
        {
          "output_type": "stream",
          "text": [
            "rmse:  0.8615503643902178\n",
            "mse:  0.7422690303809171\n",
            "mae:  0.2896886507414371\n",
            "r2:  0.753535226617341\n"
          ],
          "name": "stdout"
        }
      ]
    },
    {
      "cell_type": "markdown",
      "metadata": {
        "id": "IypbK-Op91p9"
      },
      "source": [
        "- 하지만 오차는 좀 줄어들고 r2값은 올라갔네요.\n",
        "- 그래도 이렇게 한 수치로 찍는 것은 개별 고객의 주문률을 정확하게 반영한다고 보기 힘들 것 같습니다."
      ]
    },
    {
      "cell_type": "markdown",
      "metadata": {
        "id": "L_thOsZRVrTO"
      },
      "source": [
        "### Gradient Boosted tree regression 모델"
      ]
    },
    {
      "cell_type": "code",
      "metadata": {
        "id": "8AeOiMHrFTci"
      },
      "source": [
        "from pyspark.ml.regression import GBTRegressor\n",
        "\n",
        "gbt = GBTRegressor(\n",
        "    featuresCol = 'predictors', \n",
        "    labelCol = 'wet_food_order_number', \n",
        "    maxIter=7, # 한 GBT 앙상블에 있는 트리의 숫자\n",
        "    maxDepth = 5, # 트리의 깊이\n",
        "    )\n",
        "\n",
        "gbtModel = gbt.fit(train_data)\n",
        "\n",
        "pred = gbtModel.transform(test_data)"
      ],
      "execution_count": 43,
      "outputs": []
    },
    {
      "cell_type": "code",
      "metadata": {
        "colab": {
          "base_uri": "https://localhost:8080/"
        },
        "id": "UD_iyBzLG7Oj",
        "outputId": "65f1aef8-4a4b-4efc-dc25-9cd253ccd31c"
      },
      "source": [
        "pred.show()"
      ],
      "execution_count": 44,
      "outputs": [
        {
          "output_type": "stream",
          "text": [
            "+-------------+---------------------+--------------------+\n",
            "|   predictors|wet_food_order_number|          prediction|\n",
            "+-------------+---------------------+--------------------+\n",
            "|(4,[0],[1.0])|                  0.0|4.959496348355273E-4|\n",
            "|(4,[0],[1.0])|                  0.0|4.959496348355273E-4|\n",
            "|(4,[0],[1.0])|                  0.0|4.959496348355273E-4|\n",
            "|(4,[0],[1.0])|                  0.0|4.959496348355273E-4|\n",
            "|(4,[0],[1.0])|                  0.0|4.959496348355273E-4|\n",
            "|(4,[0],[1.0])|                  0.0|4.959496348355273E-4|\n",
            "|(4,[0],[1.0])|                  0.0|4.959496348355273E-4|\n",
            "|(4,[0],[1.0])|                  0.0|4.959496348355273E-4|\n",
            "|(4,[0],[1.0])|                  0.0|4.959496348355273E-4|\n",
            "|(4,[0],[1.0])|                  0.0|4.959496348355273E-4|\n",
            "|(4,[0],[1.0])|                  0.0|4.959496348355273E-4|\n",
            "|(4,[0],[1.0])|                  0.0|4.959496348355273E-4|\n",
            "|(4,[0],[1.0])|                  0.0|4.959496348355273E-4|\n",
            "|(4,[0],[1.0])|                  0.0|4.959496348355273E-4|\n",
            "|(4,[0],[1.0])|                  0.0|4.959496348355273E-4|\n",
            "|(4,[0],[1.0])|                  0.0|4.959496348355273E-4|\n",
            "|(4,[0],[1.0])|                  0.0|4.959496348355273E-4|\n",
            "|(4,[0],[1.0])|                  0.0|4.959496348355273E-4|\n",
            "|(4,[0],[1.0])|                  0.0|4.959496348355273E-4|\n",
            "|(4,[0],[1.0])|                  0.0|4.959496348355273E-4|\n",
            "+-------------+---------------------+--------------------+\n",
            "only showing top 20 rows\n",
            "\n"
          ],
          "name": "stdout"
        }
      ]
    },
    {
      "cell_type": "code",
      "metadata": {
        "colab": {
          "base_uri": "https://localhost:8080/"
        },
        "id": "yM77zABBH8G4",
        "outputId": "749358eb-5ef6-44dd-ec9e-3c5d92547dce"
      },
      "source": [
        "eval = RegressionEvaluator(\n",
        "    labelCol = \"wet_food_order_number\",\n",
        "    predictionCol = \"prediction\",\n",
        "    metricName= \"rmse\"\n",
        ")\n",
        "\n",
        "rmse = eval.evaluate(pred,)\n",
        "mse = eval.evaluate(pred, {eval.metricName: \"mse\"})\n",
        "mae = eval.evaluate(pred, {eval.metricName: \"mae\"})\n",
        "r2 = eval.evaluate(pred, {eval.metricName: \"r2\"})\n",
        "print(\"rmse: \", rmse)\n",
        "print(\"mse: \", mse)\n",
        "print(\"mae: \", mae)\n",
        "print(\"r2: \", r2)"
      ],
      "execution_count": 45,
      "outputs": [
        {
          "output_type": "stream",
          "text": [
            "rmse:  0.9105414043795502\n",
            "mse:  0.8290856490894836\n",
            "mae:  0.248495121382183\n",
            "r2:  0.719545469568496\n"
          ],
          "name": "stdout"
        }
      ]
    },
    {
      "cell_type": "markdown",
      "metadata": {
        "id": "yhI42KS_IESR"
      },
      "source": [
        "- 오차는 늘고 r2는 떨어졌네요. 튜닝을 하지 않아서인듯 합니다. 랜덤포레스트는 튜닝을 하지 않아도 성능이 가장 괜찮게 나오고, 그라디언트 부스트 트리 모델은 튜닝을 해야 성능이 괜찮게 나오기 때문인듯 합니다.(튜닝을 좀 추가했더니 성능이 더 떨어지네요,, 랜덤서치& 그리드서치 CV 방식으로 최적의 파라미터를 찾아볼 수 있겠습니다.)"
      ]
    },
    {
      "cell_type": "markdown",
      "metadata": {
        "id": "CTODQv-hHP1O"
      },
      "source": [
        "- spark를 사용하면 모델을 저장하고 간편하게 불러올 수 있다는 게 장점인 듯합니다.\n",
        "```\n",
        "model.save(sc, \"target/tmp/myGradientBoostingRegressionModel\")\n",
        "sameModel = GradientBoostedTreesModel.load(sc, \"target/tmp/myGradientBoostingRegressionModel\")\n",
        "```\n"
      ]
    }
  ]
}