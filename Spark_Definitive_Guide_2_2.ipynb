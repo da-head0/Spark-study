{
  "nbformat": 4,
  "nbformat_minor": 0,
  "metadata": {
    "colab": {
      "name": "Spark Definitive Guide 2-2.ipynb",
      "provenance": [],
      "authorship_tag": "ABX9TyPVHS1V9D7tnZAG/0gPWXI9",
      "include_colab_link": true
    },
    "kernelspec": {
      "name": "python3",
      "display_name": "Python 3"
    },
    "language_info": {
      "name": "python"
    }
  },
  "cells": [
    {
      "cell_type": "markdown",
      "metadata": {
        "id": "view-in-github",
        "colab_type": "text"
      },
      "source": [
        "<a href=\"https://colab.research.google.com/github/da-head0/Spark-study/blob/main/Spark_Definitive_Guide_2_2.ipynb\" target=\"_parent\"><img src=\"https://colab.research.google.com/assets/colab-badge.svg\" alt=\"Open In Colab\"/></a>"
      ]
    },
    {
      "cell_type": "code",
      "execution_count": null,
      "metadata": {
        "id": "4z0RiMFITsjP"
      },
      "outputs": [],
      "source": [
        "!apt-get install openjdk-8-jdk-headless -qq > /dev/null\n",
        "!wget -q https://downloads.apache.org/spark/spark-3.2.1/spark-3.2.1-bin-hadoop2.7.tgz\n",
        "!tar -xvf spark-3.2.1-bin-hadoop2.7.tgz\n",
        "!pip install -q findspark\n",
        "!pip install pyspark"
      ]
    },
    {
      "cell_type": "code",
      "source": [
        "!git clone https://github.com/databricks/Spark-The-Definitive-Guide.git"
      ],
      "metadata": {
        "colab": {
          "base_uri": "https://localhost:8080/"
        },
        "id": "_cxsJ6D-T6ht",
        "outputId": "61bb82eb-839f-48ae-9fbd-413a4745c925"
      },
      "execution_count": 24,
      "outputs": [
        {
          "output_type": "stream",
          "name": "stdout",
          "text": [
            "Cloning into 'Spark-The-Definitive-Guide'...\n",
            "remote: Enumerating objects: 2035, done.\u001b[K\n",
            "remote: Total 2035 (delta 0), reused 0 (delta 0), pack-reused 2035\u001b[K\n",
            "Receiving objects: 100% (2035/2035), 523.88 MiB | 22.32 MiB/s, done.\n",
            "Resolving deltas: 100% (305/305), done.\n",
            "Checking out files: 100% (1738/1738), done.\n"
          ]
        }
      ]
    },
    {
      "cell_type": "code",
      "source": [
        "%cd Spark-The-Definitive-Guide"
      ],
      "metadata": {
        "colab": {
          "base_uri": "https://localhost:8080/"
        },
        "id": "W_x3ig3dT8Cl",
        "outputId": "bcd1680c-523e-4f7e-ff1f-2c8b7cc40616"
      },
      "execution_count": 25,
      "outputs": [
        {
          "output_type": "stream",
          "name": "stdout",
          "text": [
            "/content/Spark-The-Definitive-Guide/Spark-The-Definitive-Guide\n"
          ]
        }
      ]
    },
    {
      "cell_type": "code",
      "source": [
        "import os\n",
        "os.environ[\"JAVA_HOME\"] = \"/usr/lib/jvm/java-8-openjdk-amd64\"\n",
        "os.environ[\"SPARK_HOME\"] = \"/content/spark-3.2.1-bin-hadoop2.7\""
      ],
      "metadata": {
        "id": "U0HGcivuT-CG"
      },
      "execution_count": 26,
      "outputs": []
    },
    {
      "cell_type": "code",
      "source": [
        "from pyspark.sql import SparkSession\n",
        "spark = SparkSession.builder.master(\"local[*]\").getOrCreate()"
      ],
      "metadata": {
        "id": "ghsYl9cXUAVV"
      },
      "execution_count": 27,
      "outputs": []
    },
    {
      "cell_type": "markdown",
      "source": [
        "# 조인\n",
        "- 거의 모든 스파크 작업에 필수적으로 사용됨\n",
        "- 스파크는 서로 다른 데이터를 조합할 수 있으므로 여러 데이터소스를 활용해 조인을 실행 \n",
        "- 메모리 부족 상황을 회피하는 방법, 이전에 풀지 못했던 문제를 해결하는 데 도움이 된다.\n",
        "- 가장 많이 사용하는 조인 표현식은 왼쪽과 오른쪽 데이터셋에 지정된 키가 동일한지 비교하는 equal join -> 키가 일치하면 왼쪽과 오른쪽 데이터셋을 결합\n",
        "- 일치하는 키가 없는 로우는 조인에 포함 X\n",
        "- 복합 데이터 타입을 조인에 사용할 수 있음. 배열 타입의 키게 조인할 키가 존재하는지 확인해 조인을 수행할 수 있음."
      ],
      "metadata": {
        "id": "qezI62IVUKtr"
      }
    },
    {
      "cell_type": "code",
      "source": [
        "person = spark.createDataFrame([\n",
        "    (0, \"Bill Chambers\", 0, [100]),\n",
        "    (1, \"Matei Zaharia\", 1, [500, 250, 100]),\n",
        "    (2, \"Michael Armbrust\", 1, [250, 100])])\\\n",
        "  .toDF(\"id\", \"name\", \"graduate_program\", \"spark_status\")\n",
        "graduateProgram = spark.createDataFrame([\n",
        "    (0, \"Masters\", \"School of Information\", \"UC Berkeley\"),\n",
        "    (2, \"Masters\", \"EECS\", \"UC Berkeley\"),\n",
        "    (1, \"Ph.D.\", \"EECS\", \"UC Berkeley\")])\\\n",
        "  .toDF(\"id\", \"degree\", \"department\", \"school\")\n",
        "sparkStatus = spark.createDataFrame([\n",
        "    (500, \"Vice President\"),\n",
        "    (250, \"PMC Member\"),\n",
        "    (100, \"Contributor\")])\\\n",
        "  .toDF(\"id\", \"status\")"
      ],
      "metadata": {
        "id": "Ior7naPWUCQF"
      },
      "execution_count": 28,
      "outputs": []
    },
    {
      "cell_type": "code",
      "source": [
        "# 생성한 데이터셋을 테이블로 등록\n",
        "person.createOrReplaceTempView(\"person\")\n",
        "graduateProgram.createOrReplaceTempView(\"graduateProgram\")\n",
        "sparkStatus.createOrReplaceTempView(\"sparkStatus\")"
      ],
      "metadata": {
        "id": "iuFyauZrU8-Z"
      },
      "execution_count": 29,
      "outputs": []
    },
    {
      "cell_type": "code",
      "source": [
        "# 내부 조인 - DataFrame이나 테이블에 존재하는 키를 평가하고 true로 평가되는 로우만 결합\n",
        "joinExpression = person[\"graduate_program\"] == graduateProgram['id']"
      ],
      "metadata": {
        "id": "0uAfj5TiVUNd"
      },
      "execution_count": 30,
      "outputs": []
    },
    {
      "cell_type": "code",
      "source": [
        "person.join(graduateProgram, joinExpression).show()"
      ],
      "metadata": {
        "colab": {
          "base_uri": "https://localhost:8080/"
        },
        "id": "UT68o8T2VeWT",
        "outputId": "3475818a-56d0-4f3c-e5fe-8f0a4d1c659b"
      },
      "execution_count": 31,
      "outputs": [
        {
          "output_type": "stream",
          "name": "stdout",
          "text": [
            "+---+----------------+----------------+---------------+---+-------+--------------------+-----------+\n",
            "| id|            name|graduate_program|   spark_status| id| degree|          department|     school|\n",
            "+---+----------------+----------------+---------------+---+-------+--------------------+-----------+\n",
            "|  0|   Bill Chambers|               0|          [100]|  0|Masters|School of Informa...|UC Berkeley|\n",
            "|  1|   Matei Zaharia|               1|[500, 250, 100]|  1|  Ph.D.|                EECS|UC Berkeley|\n",
            "|  2|Michael Armbrust|               1|     [250, 100]|  1|  Ph.D.|                EECS|UC Berkeley|\n",
            "+---+----------------+----------------+---------------+---+-------+--------------------+-----------+\n",
            "\n"
          ]
        }
      ]
    },
    {
      "cell_type": "code",
      "source": [
        "# 조인 타입 명확하게 지정\n",
        "joinType = \"inner\"\n",
        "\n",
        "person.join(graduateProgram, joinExpression, joinType).show()"
      ],
      "metadata": {
        "colab": {
          "base_uri": "https://localhost:8080/"
        },
        "id": "B6LDhRyxVn7O",
        "outputId": "290f058b-8c87-4ea1-9d4d-83a52bb5a511"
      },
      "execution_count": 32,
      "outputs": [
        {
          "output_type": "stream",
          "name": "stdout",
          "text": [
            "+---+----------------+----------------+---------------+---+-------+--------------------+-----------+\n",
            "| id|            name|graduate_program|   spark_status| id| degree|          department|     school|\n",
            "+---+----------------+----------------+---------------+---+-------+--------------------+-----------+\n",
            "|  0|   Bill Chambers|               0|          [100]|  0|Masters|School of Informa...|UC Berkeley|\n",
            "|  1|   Matei Zaharia|               1|[500, 250, 100]|  1|  Ph.D.|                EECS|UC Berkeley|\n",
            "|  2|Michael Armbrust|               1|     [250, 100]|  1|  Ph.D.|                EECS|UC Berkeley|\n",
            "+---+----------------+----------------+---------------+---+-------+--------------------+-----------+\n",
            "\n"
          ]
        }
      ]
    },
    {
      "cell_type": "code",
      "source": [
        "# 외부 조인 - DataFrame이나 테이블에 존재하는 키를 평가하여 참이나 거짓으로 평가한 로우를 포함 + 조인. 일치하는 로우가 없다면 해당 위치에 null 삽입\n",
        "joinType = \"outer\"\n",
        "\n",
        "person.join(graduateProgram, joinExpression, joinType).show()"
      ],
      "metadata": {
        "colab": {
          "base_uri": "https://localhost:8080/"
        },
        "id": "Kq59OAuTV6lC",
        "outputId": "aaf64183-c166-4ef0-da40-3cae274192dc"
      },
      "execution_count": 33,
      "outputs": [
        {
          "output_type": "stream",
          "name": "stdout",
          "text": [
            "+----+----------------+----------------+---------------+---+-------+--------------------+-----------+\n",
            "|  id|            name|graduate_program|   spark_status| id| degree|          department|     school|\n",
            "+----+----------------+----------------+---------------+---+-------+--------------------+-----------+\n",
            "|   0|   Bill Chambers|               0|          [100]|  0|Masters|School of Informa...|UC Berkeley|\n",
            "|   1|   Matei Zaharia|               1|[500, 250, 100]|  1|  Ph.D.|                EECS|UC Berkeley|\n",
            "|   2|Michael Armbrust|               1|     [250, 100]|  1|  Ph.D.|                EECS|UC Berkeley|\n",
            "|null|            null|            null|           null|  2|Masters|                EECS|UC Berkeley|\n",
            "+----+----------------+----------------+---------------+---+-------+--------------------+-----------+\n",
            "\n"
          ]
        }
      ]
    },
    {
      "cell_type": "markdown",
      "source": [
        "- 스파크 버전 3점대에서는 앞 칼럼 순으로 정렬이 되는듯?"
      ],
      "metadata": {
        "id": "MDJadYIaWRrp"
      }
    },
    {
      "cell_type": "code",
      "source": [
        "# 왼쪽 외부 조인 - 왼쪽 DataFrame의 모든 로우와 왼쪽 DataFrame과 일치하는 오른쪽 DataFrame의 로우를 함께 포함\n",
        "joinType = \"left_outer\"\n",
        "\n",
        "person.join(graduateProgram, joinExpression, joinType).show()"
      ],
      "metadata": {
        "colab": {
          "base_uri": "https://localhost:8080/"
        },
        "id": "rS1j139iWKUC",
        "outputId": "7001ca00-f0c0-45af-84e1-32b49f107f61"
      },
      "execution_count": 34,
      "outputs": [
        {
          "output_type": "stream",
          "name": "stdout",
          "text": [
            "+---+----------------+----------------+---------------+---+-------+--------------------+-----------+\n",
            "| id|            name|graduate_program|   spark_status| id| degree|          department|     school|\n",
            "+---+----------------+----------------+---------------+---+-------+--------------------+-----------+\n",
            "|  0|   Bill Chambers|               0|          [100]|  0|Masters|School of Informa...|UC Berkeley|\n",
            "|  1|   Matei Zaharia|               1|[500, 250, 100]|  1|  Ph.D.|                EECS|UC Berkeley|\n",
            "|  2|Michael Armbrust|               1|     [250, 100]|  1|  Ph.D.|                EECS|UC Berkeley|\n",
            "+---+----------------+----------------+---------------+---+-------+--------------------+-----------+\n",
            "\n"
          ]
        }
      ]
    },
    {
      "cell_type": "code",
      "source": [
        "# 오른쪽 위부 조인\n",
        "joinType = \"right_outer\"\n",
        "\n",
        "person.join(graduateProgram, joinExpression, joinType).show()"
      ],
      "metadata": {
        "colab": {
          "base_uri": "https://localhost:8080/"
        },
        "id": "hucn4mNGX86K",
        "outputId": "c6943fc6-0fa0-41df-b508-669f6d2b14b6"
      },
      "execution_count": 35,
      "outputs": [
        {
          "output_type": "stream",
          "name": "stdout",
          "text": [
            "+----+----------------+----------------+---------------+---+-------+--------------------+-----------+\n",
            "|  id|            name|graduate_program|   spark_status| id| degree|          department|     school|\n",
            "+----+----------------+----------------+---------------+---+-------+--------------------+-----------+\n",
            "|   0|   Bill Chambers|               0|          [100]|  0|Masters|School of Informa...|UC Berkeley|\n",
            "|   1|   Matei Zaharia|               1|[500, 250, 100]|  1|  Ph.D.|                EECS|UC Berkeley|\n",
            "|   2|Michael Armbrust|               1|     [250, 100]|  1|  Ph.D.|                EECS|UC Berkeley|\n",
            "|null|            null|            null|           null|  2|Masters|                EECS|UC Berkeley|\n",
            "+----+----------------+----------------+---------------+---+-------+--------------------+-----------+\n",
            "\n"
          ]
        }
      ]
    },
    {
      "cell_type": "code",
      "source": [
        "person.show()"
      ],
      "metadata": {
        "colab": {
          "base_uri": "https://localhost:8080/"
        },
        "id": "syplxjULY6bv",
        "outputId": "c524ce35-93cc-4128-da95-2b82a44e8c76"
      },
      "execution_count": 36,
      "outputs": [
        {
          "output_type": "stream",
          "name": "stdout",
          "text": [
            "+---+----------------+----------------+---------------+\n",
            "| id|            name|graduate_program|   spark_status|\n",
            "+---+----------------+----------------+---------------+\n",
            "|  0|   Bill Chambers|               0|          [100]|\n",
            "|  1|   Matei Zaharia|               1|[500, 250, 100]|\n",
            "|  2|Michael Armbrust|               1|     [250, 100]|\n",
            "+---+----------------+----------------+---------------+\n",
            "\n"
          ]
        }
      ]
    },
    {
      "cell_type": "code",
      "source": [
        "graduateProgram.show()"
      ],
      "metadata": {
        "colab": {
          "base_uri": "https://localhost:8080/"
        },
        "id": "jzMOIlNiY814",
        "outputId": "739f4eef-5fc8-4ba2-cb7f-2cb753680141"
      },
      "execution_count": 37,
      "outputs": [
        {
          "output_type": "stream",
          "name": "stdout",
          "text": [
            "+---+-------+--------------------+-----------+\n",
            "| id| degree|          department|     school|\n",
            "+---+-------+--------------------+-----------+\n",
            "|  0|Masters|School of Informa...|UC Berkeley|\n",
            "|  2|Masters|                EECS|UC Berkeley|\n",
            "|  1|  Ph.D.|                EECS|UC Berkeley|\n",
            "+---+-------+--------------------+-----------+\n",
            "\n"
          ]
        }
      ]
    },
    {
      "cell_type": "code",
      "source": [
        "# 왼쪽 안티 조인 - 오른쪽 데이터프레임의 어떤 값도 포함하지 않고 두 번째 데이터프레임은 값이 존재하는지 확인하기 위해 값만 비교하는 용도\n",
        "joinType = \"left_anti\"\n",
        "\n",
        "person.join(graduateProgram, joinExpression, joinType).show()"
      ],
      "metadata": {
        "colab": {
          "base_uri": "https://localhost:8080/"
        },
        "id": "wJhbV3i6YKoS",
        "outputId": "4a8d14ef-4fa1-445d-fd50-375ea85fcc30"
      },
      "execution_count": 38,
      "outputs": [
        {
          "output_type": "stream",
          "name": "stdout",
          "text": [
            "+---+----+----------------+------------+\n",
            "| id|name|graduate_program|spark_status|\n",
            "+---+----+----------------+------------+\n",
            "+---+----+----------------+------------+\n",
            "\n"
          ]
        }
      ]
    },
    {
      "cell_type": "markdown",
      "source": [
        "### 조인 사용 시 문제점\n",
        "- 복합 데이터 타입의 조인"
      ],
      "metadata": {
        "id": "8IqXHkG_Y-70"
      }
    },
    {
      "cell_type": "code",
      "source": [
        "# 동일한 이름을 가진 2개의 키를 사용한다면 \n",
        "# 1. 불리언 형태의 조인 표현식을 문자열이나 시퀀스 형태로 바꿈 -> 조인을 할때 두 컬럼 중 하나가 자동으로 제거됨\n",
        "person.join(gradProgramDupe, \"graduate_program\").select(\"graduate_program\").show()"
      ],
      "metadata": {
        "colab": {
          "base_uri": "https://localhost:8080/",
          "height": 216
        },
        "id": "zuWIE-PDZx0-",
        "outputId": "743dc1d4-b0a1-4cb0-c8b8-70b00604184c"
      },
      "execution_count": 39,
      "outputs": [
        {
          "output_type": "error",
          "ename": "NameError",
          "evalue": "ignored",
          "traceback": [
            "\u001b[0;31m---------------------------------------------------------------------------\u001b[0m",
            "\u001b[0;31mNameError\u001b[0m                                 Traceback (most recent call last)",
            "\u001b[0;32m<ipython-input-39-04234b98bb4a>\u001b[0m in \u001b[0;36m<module>\u001b[0;34m()\u001b[0m\n\u001b[1;32m      1\u001b[0m \u001b[0;31m# 동일한 이름을 가진 2개의 키를 사용한다면\u001b[0m\u001b[0;34m\u001b[0m\u001b[0;34m\u001b[0m\u001b[0;34m\u001b[0m\u001b[0m\n\u001b[1;32m      2\u001b[0m \u001b[0;31m# 1. 불리언 형태의 조인 표현식을 문자열이나 시퀀스 형태로 바꿈 -> 조인을 할때 두 컬럼 중 하나가 자동으로 제거됨\u001b[0m\u001b[0;34m\u001b[0m\u001b[0;34m\u001b[0m\u001b[0;34m\u001b[0m\u001b[0m\n\u001b[0;32m----> 3\u001b[0;31m \u001b[0mperson\u001b[0m\u001b[0;34m.\u001b[0m\u001b[0mjoin\u001b[0m\u001b[0;34m(\u001b[0m\u001b[0mgradProgramDupe\u001b[0m\u001b[0;34m,\u001b[0m \u001b[0;34m\"graduate_program\"\u001b[0m\u001b[0;34m)\u001b[0m\u001b[0;34m.\u001b[0m\u001b[0mselect\u001b[0m\u001b[0;34m(\u001b[0m\u001b[0;34m\"graduate_program\"\u001b[0m\u001b[0;34m)\u001b[0m\u001b[0;34m.\u001b[0m\u001b[0mshow\u001b[0m\u001b[0;34m(\u001b[0m\u001b[0;34m)\u001b[0m\u001b[0;34m\u001b[0m\u001b[0;34m\u001b[0m\u001b[0m\n\u001b[0m",
            "\u001b[0;31mNameError\u001b[0m: name 'gradProgramDupe' is not defined"
          ]
        }
      ]
    },
    {
      "cell_type": "code",
      "source": [
        "# 2. 조인 후 컬럼 제거 -> 원본 DataFrame을 사용해 컬럼 참조\n",
        "person.join(gradProgramDupe, joinExpr).drop(person.col(\"graduate_program\")).select(\"graduate_program\").show()\n",
        "\n",
        "val joinExpr = person.col(\"graduate_program\") === graduateProgran.col(\"id\")\n",
        "person.join(graduateProgram, joinExpr).drop(gradateProgram.col(\"id\")).show()\n",
        "# col 메서드 사용에 주목 -> 컬럼 고유의 ID로 해당 컬럼을 암시적으로 지정"
      ],
      "metadata": {
        "id": "ZKi9UwefhZKV"
      },
      "execution_count": null,
      "outputs": []
    },
    {
      "cell_type": "code",
      "source": [
        "# 3. 조인 전 컬럼명 변경\n",
        "val gradProgram3 = graduateProgram.withColumnRenamed(\"id\", \"grad_id\")\n",
        "val joinExpr = person.col(\"graduate_program\") === gradProgram3.col(\"grad_id\")\n",
        "person.join(gradProgram3, joinExpr).show()"
      ],
      "metadata": {
        "id": "zJiPJW5aiQVf"
      },
      "execution_count": null,
      "outputs": []
    },
    {
      "cell_type": "markdown",
      "source": [
        "# 9. 데이터소스"
      ],
      "metadata": {
        "id": "nf_D1rjSjFv6"
      }
    },
    {
      "cell_type": "code",
      "source": [
        "# 데이터 읽기의 핵심 구조\n",
        "DataFrameReader.format(...).option(\"key\", \"value\").schema(...).load()"
      ],
      "metadata": {
        "id": "ikvFZEW_jPP3"
      },
      "execution_count": null,
      "outputs": []
    },
    {
      "cell_type": "code",
      "source": [
        "# 데이터 읽기의 기초\n",
        "DataFramereader -> SparkSession의 read 속성으로 접근\n",
        "\n",
        "spark.read.format(\"csv\")\n",
        "  .option(\"mode\", \"FAILFAST\") # 형식에 맞지 않는 레코드를 만나면 즉시 종료\n",
        "  .option(\"inferSchema\", \"true\")\n",
        "  .option(\"path\", \"path/to/file\")\n",
        "  .schema(someSchema)\n",
        "  .load()"
      ],
      "metadata": {
        "id": "XPPhUGGTjgzM"
      },
      "execution_count": null,
      "outputs": []
    },
    {
      "cell_type": "markdown",
      "source": [
        "### csv file\n",
        "- 운영 환경에서는 어떤 내용이 들어있는지, 어떠한 구조로 되어 있는지 등 다양한 전제를 만들어낼 수 없음\n",
        "- 스파크는 DataFrame 정의 시점이 아닌 잡 실행 시점에만 오류 발생"
      ],
      "metadata": {
        "id": "4CJIGnkpkfxs"
      }
    },
    {
      "cell_type": "code",
      "source": [
        "csvFile = spark.read.format(\"csv\")\\\n",
        "  .option(\"header\", \"true\")\\\n",
        "  .option(\"mode\", \"FAILFAST\")\\\n",
        "  .option(\"inferSchema\", \"true\")\\\n",
        "  .load(\"data/flight-data/csv/2010-summary.csv\")"
      ],
      "metadata": {
        "id": "bqRJYQCVpDko"
      },
      "execution_count": null,
      "outputs": []
    },
    {
      "cell_type": "code",
      "source": [
        "csvFile.write.format(\"csv\").mode(\"overwrite\").option(\"sep\", \"\\t\")\\\n",
        "  .save(\"/tmp/my-tsv-file.tsv\")"
      ],
      "metadata": {
        "id": "OoB0_rtipEaJ"
      },
      "execution_count": null,
      "outputs": []
    },
    {
      "cell_type": "markdown",
      "source": [
        "### 파케이 파일\n",
        "- 컬럼 기반의 데이터 저장 방식, 분석 워크로드에 최적화되어 있음. 저장소 공간을 절약할 수 있고 전체 파일을 읽는 대신 개별 컬럼을 읽을 수 있으며, 컬럼 기반의 압축 기능 제공.\n",
        "- 아파치 스파크와 잘 호환되는 스파크의 기본 파일 포맷. \n",
        "- 읽기 연산 시 json이나 csv보다 훨씬 효율적으로 동작하므로 장기 저장용 데이터는 파케이 포맷으로 저장하는 것이 좋음\n",
        "- 복합 데이터타입을 지원해 컬럼이 배열, 맵, 구조체 타입이라 해도 문제없이 읽고 쓸 수 있음"
      ],
      "metadata": {
        "id": "II3v4AQgpJek"
      }
    },
    {
      "cell_type": "markdown",
      "source": [
        "### SQLite\n",
        "- 로컬 머신에 간단히 설치할 수 있음 (분산 환경이라면 다른 데이터베이스를 사용해야 함)\n",
        "- 데이터베이스 접속 시 사용자 인증이 필요 없음"
      ],
      "metadata": {
        "id": "_GgH7oJexNjf"
      }
    },
    {
      "cell_type": "code",
      "source": [
        "# 데이터베이스 병렬로 읽기\n",
        "dbDataFrame = spark.read.format(\"jdbc\")\\\n",
        "  .option(\"url\", url).option(\"dbtable\", tablename).option(\"driver\",  driver)\\\n",
        "  .option(\"numPartitions\", 10).load()"
      ],
      "metadata": {
        "id": "jm4WtJaPyy-I"
      },
      "execution_count": null,
      "outputs": []
    }
  ]
}